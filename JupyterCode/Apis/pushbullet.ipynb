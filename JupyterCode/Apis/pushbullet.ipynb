{
 "cells": [
  {
   "cell_type": "code",
   "execution_count": 2,
   "metadata": {},
   "outputs": [],
   "source": [
    "import requests\n",
    "from getpass import getpass\n",
    "import pandas as pd\n",
    "import numpy as np\n",
    "import json"
   ]
  },
  {
   "cell_type": "code",
   "execution_count": 4,
   "metadata": {},
   "outputs": [
    {
     "data": {
      "text/plain": [
       "'https://api.pushbullet.com'"
      ]
     },
     "execution_count": 4,
     "metadata": {},
     "output_type": "execute_result"
    }
   ],
   "source": [
    "api_url='https://api.pushbullet.com'\n",
    "api_url"
   ]
  },
  {
   "cell_type": "code",
   "execution_count": 6,
   "metadata": {},
   "outputs": [
    {
     "name": "stdin",
     "output_type": "stream",
     "text": [
      "Enter Access Token :  ··································\n"
     ]
    }
   ],
   "source": [
    "access_token=getpass(prompt='Enter Access Token : ')"
   ]
  },
  {
   "cell_type": "code",
   "execution_count": 8,
   "metadata": {},
   "outputs": [
    {
     "data": {
      "text/plain": [
       "{'active': True,\n",
       " 'iden': 'ujAK1yJTddY',\n",
       " 'created': 1393135192.53711,\n",
       " 'modified': 1589031687.328293,\n",
       " 'email': 'gokulyc@gmail.com',\n",
       " 'email_normalized': 'gokulyc@gmail.com',\n",
       " 'name': 'Gokul Y',\n",
       " 'image_url': 'https://static.pushbullet.com/google-user/99c421b9f8e29556f435e0d26630a426f255e9050e552bf3bdf26ea72fd4892c',\n",
       " 'max_upload_size': 26214400}"
      ]
     },
     "execution_count": 8,
     "metadata": {},
     "output_type": "execute_result"
    }
   ],
   "source": [
    "headers={'Access-Token':access_token,'Content-Type':'application/json'}\n",
    "response=requests.get('https://api.pushbullet.com/v2/users/me',headers=headers)\n"
   ]
  },
  {
   "cell_type": "code",
   "execution_count": 11,
   "metadata": {},
   "outputs": [
    {
     "name": "stdout",
     "output_type": "stream",
     "text": [
      "User Name : Gokul Y , Email :gokulyc@gmail.com\n"
     ]
    }
   ],
   "source": [
    "user=response.json()\n",
    "print(f\"User Name : {user['name']} , Email :{user['email']}\")"
   ]
  },
  {
   "cell_type": "markdown",
   "metadata": {},
   "source": [
    "***\n",
    "Code Sample: Generate an Encryption/Decryption Key  \n",
    "This example uses the javascript Forge library  \n",
    "***"
   ]
  },
  {
   "cell_type": "markdown",
   "metadata": {},
   "source": [
    "var pseudorandom_function = forge.md.sha256.create();  \n",
    "var password = \"hunter2\";  \n",
    "var salt = \"up0snaKOsn\";  \n",
    "var iterations = 30000;  \n",
    "var derived_key_length_bytes = 32; // 256-bit  \n",
    "var key = forge.pkcs5.pbkdf2(  \n",
    "  password,  \n",
    "  salt,  \n",
    "  iterations,  \n",
    "  derived_key_length_bytes,  \n",
    "  pseudorandom_function  \n",
    ")  \n",
    "// encode to base64 so we can easily print the key  \n",
    "// (normally it's in binary and can't be printed)  \n",
    "var base64_key = btoa(key);  \n",
    "console.log(\"base64_key:\", base64_key);  "
   ]
  },
  {
   "cell_type": "code",
   "execution_count": null,
   "metadata": {},
   "outputs": [],
   "source": []
  }
 ],
 "metadata": {
  "kernelspec": {
   "display_name": "Python 3.7.3 64-bit ('base': conda)",
   "language": "python",
   "name": "python37364bitbasecondac1e1af396773407484830c731e4132c7"
  },
  "language_info": {
   "codemirror_mode": {
    "name": "ipython",
    "version": 3
   },
   "file_extension": ".py",
   "mimetype": "text/x-python",
   "name": "python",
   "nbconvert_exporter": "python",
   "pygments_lexer": "ipython3",
   "version": "3.7.6"
  }
 },
 "nbformat": 4,
 "nbformat_minor": 4
}
