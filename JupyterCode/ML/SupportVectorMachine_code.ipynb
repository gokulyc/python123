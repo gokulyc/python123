{
 "cells": [
  {
   "cell_type": "code",
   "execution_count": 1,
   "metadata": {
    "ExecuteTime": {
     "end_time": "2020-09-16T16:22:35.848523Z",
     "start_time": "2020-09-16T16:22:34.757669Z"
    }
   },
   "outputs": [],
   "source": [
    "import pandas as pd \n",
    "import numpy as np\n",
    "from sklearn import datasets\n",
    "from sklearn import set_config\n",
    "set_config(print_changed_only=False)"
   ]
  },
  {
   "cell_type": "code",
   "execution_count": 28,
   "metadata": {
    "ExecuteTime": {
     "end_time": "2020-09-16T16:30:09.765710Z",
     "start_time": "2020-09-16T16:30:09.733278Z"
    }
   },
   "outputs": [
    {
     "name": "stdout",
     "output_type": "stream",
     "text": [
      "<class 'pandas.core.frame.DataFrame'>\n",
      "RangeIndex: 150 entries, 0 to 149\n",
      "Data columns (total 4 columns):\n",
      " #   Column             Non-Null Count  Dtype  \n",
      "---  ------             --------------  -----  \n",
      " 0   sepal length (cm)  150 non-null    float64\n",
      " 1   sepal width (cm)   150 non-null    float64\n",
      " 2   petal length (cm)  150 non-null    float64\n",
      " 3   petal width (cm)   150 non-null    float64\n",
      "dtypes: float64(4)\n",
      "memory usage: 4.8 KB\n"
     ]
    }
   ],
   "source": [
    "dataset_iris=datasets.load_iris()\n",
    "x=pd.DataFrame(dataset_iris['data'],columns=[i.strip() for i in dataset_iris.feature_names])\n",
    "y=dataset_iris['target']\n",
    "x.info()"
   ]
  },
  {
   "cell_type": "code",
   "execution_count": 3,
   "metadata": {
    "ExecuteTime": {
     "end_time": "2020-09-16T16:22:36.765872Z",
     "start_time": "2020-09-16T16:22:36.695068Z"
    }
   },
   "outputs": [],
   "source": [
    "from sklearn.pipeline import Pipeline\n",
    "from sklearn.preprocessing import StandardScaler\n",
    "from sklearn.model_selection import train_test_split"
   ]
  },
  {
   "cell_type": "code",
   "execution_count": 4,
   "metadata": {
    "ExecuteTime": {
     "end_time": "2020-09-16T16:22:37.868942Z",
     "start_time": "2020-09-16T16:22:37.784141Z"
    }
   },
   "outputs": [],
   "source": [
    "from sklearn.svm import SVC"
   ]
  },
  {
   "cell_type": "code",
   "execution_count": 5,
   "metadata": {
    "ExecuteTime": {
     "end_time": "2020-09-16T16:22:38.570101Z",
     "start_time": "2020-09-16T16:22:38.529627Z"
    }
   },
   "outputs": [
    {
     "data": {
      "text/plain": [
       "Pipeline(memory=None,\n",
       "         steps=[('scaler',\n",
       "                 StandardScaler(copy=True, with_mean=True, with_std=True)),\n",
       "                ('clf_rf',\n",
       "                 SVC(C=1.0, break_ties=False, cache_size=200, class_weight=None,\n",
       "                     coef0=0.0, decision_function_shape='ovr', degree=3,\n",
       "                     gamma='scale', kernel='rbf', max_iter=-1,\n",
       "                     probability=False, random_state=None, shrinking=True,\n",
       "                     tol=0.001, verbose=False))],\n",
       "         verbose=False)"
      ]
     },
     "execution_count": 5,
     "metadata": {},
     "output_type": "execute_result"
    }
   ],
   "source": [
    "pipe1=Pipeline([('scaler',StandardScaler()),('clf_rf',SVC())])\n",
    "pipe1"
   ]
  },
  {
   "cell_type": "code",
   "execution_count": 6,
   "metadata": {
    "ExecuteTime": {
     "end_time": "2020-09-16T16:22:40.704150Z",
     "start_time": "2020-09-16T16:22:40.696676Z"
    }
   },
   "outputs": [],
   "source": [
    "x_train,x_test,y_train,y_test=train_test_split(x,y)"
   ]
  },
  {
   "cell_type": "code",
   "execution_count": 7,
   "metadata": {
    "ExecuteTime": {
     "end_time": "2020-09-16T16:22:42.292005Z",
     "start_time": "2020-09-16T16:22:42.254143Z"
    }
   },
   "outputs": [
    {
     "data": {
      "text/plain": [
       "Pipeline(memory=None,\n",
       "         steps=[('scaler',\n",
       "                 StandardScaler(copy=True, with_mean=True, with_std=True)),\n",
       "                ('clf_rf',\n",
       "                 SVC(C=1.0, break_ties=False, cache_size=200, class_weight=None,\n",
       "                     coef0=0.0, decision_function_shape='ovr', degree=3,\n",
       "                     gamma='scale', kernel='rbf', max_iter=-1,\n",
       "                     probability=False, random_state=None, shrinking=True,\n",
       "                     tol=0.001, verbose=False))],\n",
       "         verbose=False)"
      ]
     },
     "execution_count": 7,
     "metadata": {},
     "output_type": "execute_result"
    }
   ],
   "source": [
    "pipe1.fit(x_train,y_train)"
   ]
  },
  {
   "cell_type": "code",
   "execution_count": 8,
   "metadata": {
    "ExecuteTime": {
     "end_time": "2020-09-16T16:22:42.960169Z",
     "start_time": "2020-09-16T16:22:42.938182Z"
    }
   },
   "outputs": [],
   "source": [
    "y_pred=pipe1.predict(x_test)"
   ]
  },
  {
   "cell_type": "code",
   "execution_count": 9,
   "metadata": {
    "ExecuteTime": {
     "end_time": "2020-09-16T16:22:43.820373Z",
     "start_time": "2020-09-16T16:22:43.810858Z"
    }
   },
   "outputs": [
    {
     "data": {
      "text/plain": [
       "array([1, 1, 2, 2, 1, 1, 1, 0, 0, 2, 2, 0, 0, 0, 2, 1, 1, 2, 2, 1, 2, 1,\n",
       "       0, 2, 2, 2, 1, 2, 0, 1, 0, 1, 2, 0, 1, 0, 0, 2])"
      ]
     },
     "execution_count": 9,
     "metadata": {},
     "output_type": "execute_result"
    }
   ],
   "source": [
    "y_pred"
   ]
  },
  {
   "cell_type": "code",
   "execution_count": 10,
   "metadata": {
    "ExecuteTime": {
     "end_time": "2020-09-16T16:22:44.564372Z",
     "start_time": "2020-09-16T16:22:44.547170Z"
    }
   },
   "outputs": [
    {
     "name": "stdout",
     "output_type": "stream",
     "text": [
      "              precision    recall  f1-score   support\n",
      "\n",
      "           0       1.00      1.00      1.00        11\n",
      "           1       0.92      1.00      0.96        12\n",
      "           2       1.00      0.93      0.97        15\n",
      "\n",
      "    accuracy                           0.97        38\n",
      "   macro avg       0.97      0.98      0.98        38\n",
      "weighted avg       0.98      0.97      0.97        38\n",
      "\n"
     ]
    }
   ],
   "source": [
    "from sklearn.metrics import classification_report\n",
    "print(classification_report(y_test,y_pred))"
   ]
  },
  {
   "cell_type": "code",
   "execution_count": null,
   "metadata": {},
   "outputs": [],
   "source": []
  },
  {
   "cell_type": "markdown",
   "metadata": {},
   "source": [
    "https://scikit-learn.org/stable/tutorial/statistical_inference/putting_together.html"
   ]
  },
  {
   "cell_type": "code",
   "execution_count": 29,
   "metadata": {
    "ExecuteTime": {
     "end_time": "2020-09-16T16:30:20.889388Z",
     "start_time": "2020-09-16T16:30:20.881818Z"
    }
   },
   "outputs": [],
   "source": [
    "from sklearn.model_selection import GridSearchCV\n",
    "from sklearn.svm import SVC"
   ]
  },
  {
   "cell_type": "code",
   "execution_count": 30,
   "metadata": {
    "ExecuteTime": {
     "end_time": "2020-09-16T16:30:21.360678Z",
     "start_time": "2020-09-16T16:30:21.352734Z"
    }
   },
   "outputs": [],
   "source": [
    "parameters = {'clf_svc__C':[1,10,1e3,1e4,1e5],\"clf_svc__gamma\":[1e-3,5e-4,1e-4,5e-3]}"
   ]
  },
  {
   "cell_type": "code",
   "execution_count": 31,
   "metadata": {
    "ExecuteTime": {
     "end_time": "2020-09-16T16:30:21.831102Z",
     "start_time": "2020-09-16T16:30:21.810602Z"
    }
   },
   "outputs": [
    {
     "data": {
      "text/plain": [
       "Pipeline(memory=None,\n",
       "         steps=[('scaler',\n",
       "                 StandardScaler(copy=True, with_mean=True, with_std=True)),\n",
       "                ('clf_svc',\n",
       "                 SVC(C=1.0, break_ties=False, cache_size=200, class_weight=None,\n",
       "                     coef0=0.0, decision_function_shape='ovr', degree=3,\n",
       "                     gamma='scale', kernel='rbf', max_iter=-1,\n",
       "                     probability=False, random_state=None, shrinking=True,\n",
       "                     tol=0.001, verbose=False))],\n",
       "         verbose=False)"
      ]
     },
     "execution_count": 31,
     "metadata": {},
     "output_type": "execute_result"
    }
   ],
   "source": [
    "pipe1=Pipeline([('scaler',StandardScaler()),('clf_svc',SVC())])\n",
    "pipe1"
   ]
  },
  {
   "cell_type": "code",
   "execution_count": 32,
   "metadata": {
    "ExecuteTime": {
     "end_time": "2020-09-16T16:30:23.125377Z",
     "start_time": "2020-09-16T16:30:22.459704Z"
    }
   },
   "outputs": [
    {
     "data": {
      "text/plain": [
       "GridSearchCV(cv=None, error_score=nan,\n",
       "             estimator=Pipeline(memory=None,\n",
       "                                steps=[('scaler',\n",
       "                                        StandardScaler(copy=True,\n",
       "                                                       with_mean=True,\n",
       "                                                       with_std=True)),\n",
       "                                       ('clf_svc',\n",
       "                                        SVC(C=1.0, break_ties=False,\n",
       "                                            cache_size=200, class_weight=None,\n",
       "                                            coef0=0.0,\n",
       "                                            decision_function_shape='ovr',\n",
       "                                            degree=3, gamma='scale',\n",
       "                                            kernel='rbf', max_iter=-1,\n",
       "                                            probability=False,\n",
       "                                            random_state=None, shrinking=True,\n",
       "                                            tol=0.001, verbose=False))],\n",
       "                                verbose=False),\n",
       "             iid='deprecated', n_jobs=None,\n",
       "             param_grid={'clf_svc__C': [1, 10, 1000.0, 10000.0, 100000.0],\n",
       "                         'clf_svc__gamma': [0.001, 0.0005, 0.0001, 0.005]},\n",
       "             pre_dispatch='2*n_jobs', refit=True, return_train_score=False,\n",
       "             scoring=None, verbose=0)"
      ]
     },
     "execution_count": 32,
     "metadata": {},
     "output_type": "execute_result"
    }
   ],
   "source": [
    "abc=GridSearchCV(pipe1,parameters)\n",
    "abc.fit(x,y)"
   ]
  },
  {
   "cell_type": "code",
   "execution_count": 33,
   "metadata": {
    "ExecuteTime": {
     "end_time": "2020-09-16T16:30:24.338600Z",
     "start_time": "2020-09-16T16:30:24.323644Z"
    }
   },
   "outputs": [
    {
     "data": {
      "text/plain": [
       "Pipeline(memory=None,\n",
       "         steps=[('scaler',\n",
       "                 StandardScaler(copy=True, with_mean=True, with_std=True)),\n",
       "                ('clf_svc',\n",
       "                 SVC(C=1000.0, break_ties=False, cache_size=200,\n",
       "                     class_weight=None, coef0=0.0,\n",
       "                     decision_function_shape='ovr', degree=3, gamma=0.0001,\n",
       "                     kernel='rbf', max_iter=-1, probability=False,\n",
       "                     random_state=None, shrinking=True, tol=0.001,\n",
       "                     verbose=False))],\n",
       "         verbose=False)"
      ]
     },
     "execution_count": 33,
     "metadata": {},
     "output_type": "execute_result"
    }
   ],
   "source": [
    "abc.best_estimator_"
   ]
  },
  {
   "cell_type": "code",
   "execution_count": 34,
   "metadata": {
    "ExecuteTime": {
     "end_time": "2020-09-16T16:30:25.191514Z",
     "start_time": "2020-09-16T16:30:25.169020Z"
    }
   },
   "outputs": [
    {
     "data": {
      "text/plain": [
       "{'mean_fit_time': array([0.00729604, 0.00398936, 0.00478778, 0.00418887, 0.00418878,\n",
       "        0.00398922, 0.00398893, 0.0033906 , 0.00358963, 0.00359631,\n",
       "        0.00359054, 0.00359035, 0.00339088, 0.00360184, 0.00339112,\n",
       "        0.00399008, 0.00299225, 0.00379047, 0.00358996, 0.00458798]),\n",
       " 'std_fit_time': array([2.73085980e-03, 1.16800773e-07, 3.99161453e-04, 3.98945905e-04,\n",
       "        3.98874326e-04, 5.00111031e-07, 5.72204590e-07, 4.89259379e-04,\n",
       "        4.89982885e-04, 4.94307255e-04, 4.88870129e-04, 4.89299521e-04,\n",
       "        4.87955868e-04, 4.98557327e-04, 4.89512410e-04, 8.74056949e-07,\n",
       "        7.00804637e-07, 3.98208952e-04, 4.89083777e-04, 4.88597113e-04]),\n",
       " 'mean_score_time': array([0.0031858 , 0.00199471, 0.00145712, 0.00159574, 0.00179524,\n",
       "        0.00119658, 0.00179558, 0.00180278, 0.00139651, 0.00158944,\n",
       "        0.00159569, 0.00139675, 0.00159678, 0.00138469, 0.00159521,\n",
       "        0.00119662, 0.00199456, 0.00139518, 0.00198832, 0.00159578]),\n",
       " 'std_score_time': array([1.93859201e-03, 1.16800773e-07, 4.53408946e-04, 4.88519261e-04,\n",
       "        3.98969693e-04, 3.98898135e-04, 3.99017818e-04, 4.03457907e-04,\n",
       "        4.89127011e-04, 4.84014886e-04, 4.88968255e-04, 4.88157871e-04,\n",
       "        4.87042687e-04, 4.98484990e-04, 4.88870919e-04, 3.98637832e-04,\n",
       "        1.47280171e-06, 4.88267382e-04, 1.22349390e-05, 4.88655601e-04]),\n",
       " 'param_clf_svc__C': masked_array(data=[1, 1, 1, 1, 10, 10, 10, 10, 1000.0, 1000.0, 1000.0,\n",
       "                    1000.0, 10000.0, 10000.0, 10000.0, 10000.0, 100000.0,\n",
       "                    100000.0, 100000.0, 100000.0],\n",
       "              mask=[False, False, False, False, False, False, False, False,\n",
       "                    False, False, False, False, False, False, False, False,\n",
       "                    False, False, False, False],\n",
       "        fill_value='?',\n",
       "             dtype=object),\n",
       " 'param_clf_svc__gamma': masked_array(data=[0.001, 0.0005, 0.0001, 0.005, 0.001, 0.0005, 0.0001,\n",
       "                    0.005, 0.001, 0.0005, 0.0001, 0.005, 0.001, 0.0005,\n",
       "                    0.0001, 0.005, 0.001, 0.0005, 0.0001, 0.005],\n",
       "              mask=[False, False, False, False, False, False, False, False,\n",
       "                    False, False, False, False, False, False, False, False,\n",
       "                    False, False, False, False],\n",
       "        fill_value='?',\n",
       "             dtype=object),\n",
       " 'params': [{'clf_svc__C': 1, 'clf_svc__gamma': 0.001},\n",
       "  {'clf_svc__C': 1, 'clf_svc__gamma': 0.0005},\n",
       "  {'clf_svc__C': 1, 'clf_svc__gamma': 0.0001},\n",
       "  {'clf_svc__C': 1, 'clf_svc__gamma': 0.005},\n",
       "  {'clf_svc__C': 10, 'clf_svc__gamma': 0.001},\n",
       "  {'clf_svc__C': 10, 'clf_svc__gamma': 0.0005},\n",
       "  {'clf_svc__C': 10, 'clf_svc__gamma': 0.0001},\n",
       "  {'clf_svc__C': 10, 'clf_svc__gamma': 0.005},\n",
       "  {'clf_svc__C': 1000.0, 'clf_svc__gamma': 0.001},\n",
       "  {'clf_svc__C': 1000.0, 'clf_svc__gamma': 0.0005},\n",
       "  {'clf_svc__C': 1000.0, 'clf_svc__gamma': 0.0001},\n",
       "  {'clf_svc__C': 1000.0, 'clf_svc__gamma': 0.005},\n",
       "  {'clf_svc__C': 10000.0, 'clf_svc__gamma': 0.001},\n",
       "  {'clf_svc__C': 10000.0, 'clf_svc__gamma': 0.0005},\n",
       "  {'clf_svc__C': 10000.0, 'clf_svc__gamma': 0.0001},\n",
       "  {'clf_svc__C': 10000.0, 'clf_svc__gamma': 0.005},\n",
       "  {'clf_svc__C': 100000.0, 'clf_svc__gamma': 0.001},\n",
       "  {'clf_svc__C': 100000.0, 'clf_svc__gamma': 0.0005},\n",
       "  {'clf_svc__C': 100000.0, 'clf_svc__gamma': 0.0001},\n",
       "  {'clf_svc__C': 100000.0, 'clf_svc__gamma': 0.005}],\n",
       " 'split0_test_score': array([0.8       , 0.8       , 0.8       , 0.8       , 0.83333333,\n",
       "        0.8       , 0.8       , 0.96666667, 1.        , 0.96666667,\n",
       "        0.96666667, 1.        , 1.        , 1.        , 1.        ,\n",
       "        1.        , 1.        , 1.        , 1.        , 1.        ]),\n",
       " 'split1_test_score': array([0.93333333, 0.93333333, 0.93333333, 0.9       , 0.93333333,\n",
       "        0.9       , 0.93333333, 0.96666667, 0.96666667, 1.        ,\n",
       "        1.        , 1.        , 1.        , 1.        , 0.96666667,\n",
       "        0.96666667, 1.        , 1.        , 1.        , 0.96666667]),\n",
       " 'split2_test_score': array([0.86666667, 0.86666667, 0.86666667, 0.86666667, 0.9       ,\n",
       "        0.86666667, 0.86666667, 0.96666667, 0.9       , 0.93333333,\n",
       "        0.96666667, 0.9       , 0.9       , 0.9       , 0.9       ,\n",
       "        0.9       , 0.9       , 0.9       , 0.9       , 0.9       ]),\n",
       " 'split3_test_score': array([0.86666667, 0.86666667, 0.86666667, 0.9       , 0.9       ,\n",
       "        0.9       , 0.86666667, 0.93333333, 0.93333333, 0.93333333,\n",
       "        0.93333333, 0.93333333, 0.93333333, 0.93333333, 0.93333333,\n",
       "        0.93333333, 0.93333333, 0.93333333, 0.93333333, 0.93333333]),\n",
       " 'split4_test_score': array([0.9       , 0.9       , 0.9       , 0.93333333, 0.9       ,\n",
       "        0.96666667, 0.9       , 1.        , 1.        , 1.        ,\n",
       "        1.        , 1.        , 1.        , 1.        , 1.        ,\n",
       "        1.        , 1.        , 1.        , 1.        , 1.        ]),\n",
       " 'mean_test_score': array([0.87333333, 0.87333333, 0.87333333, 0.88      , 0.89333333,\n",
       "        0.88666667, 0.87333333, 0.96666667, 0.96      , 0.96666667,\n",
       "        0.97333333, 0.96666667, 0.96666667, 0.96666667, 0.96      ,\n",
       "        0.96      , 0.96666667, 0.96666667, 0.96666667, 0.96      ]),\n",
       " 'std_test_score': array([0.04422166, 0.04422166, 0.04422166, 0.04521553, 0.03265986,\n",
       "        0.05416026, 0.04422166, 0.02108185, 0.03887301, 0.02981424,\n",
       "        0.02494438, 0.0421637 , 0.0421637 , 0.0421637 , 0.03887301,\n",
       "        0.03887301, 0.0421637 , 0.0421637 , 0.0421637 , 0.03887301]),\n",
       " 'rank_test_score': array([17, 17, 17, 16, 14, 15, 17,  3, 10,  2,  1,  3,  3,  3, 10, 10,  3,\n",
       "         3,  3, 10])}"
      ]
     },
     "execution_count": 34,
     "metadata": {},
     "output_type": "execute_result"
    }
   ],
   "source": [
    "abc.cv_results_\n"
   ]
  },
  {
   "cell_type": "code",
   "execution_count": null,
   "metadata": {},
   "outputs": [],
   "source": []
  }
 ],
 "metadata": {
  "kernelspec": {
   "display_name": "Python 3.7.3 64-bit ('base': conda)",
   "language": "python",
   "name": "python37364bitbasecondac1e1af396773407484830c731e4132c7"
  },
  "language_info": {
   "codemirror_mode": {
    "name": "ipython",
    "version": 3
   },
   "file_extension": ".py",
   "mimetype": "text/x-python",
   "name": "python",
   "nbconvert_exporter": "python",
   "pygments_lexer": "ipython3",
   "version": "3.7.6"
  },
  "varInspector": {
   "cols": {
    "lenName": 16,
    "lenType": 16,
    "lenVar": 40
   },
   "kernels_config": {
    "python": {
     "delete_cmd_postfix": "",
     "delete_cmd_prefix": "del ",
     "library": "var_list.py",
     "varRefreshCmd": "print(var_dic_list())"
    },
    "r": {
     "delete_cmd_postfix": ") ",
     "delete_cmd_prefix": "rm(",
     "library": "var_list.r",
     "varRefreshCmd": "cat(var_dic_list()) "
    }
   },
   "types_to_exclude": [
    "module",
    "function",
    "builtin_function_or_method",
    "instance",
    "_Feature"
   ],
   "window_display": false
  }
 },
 "nbformat": 4,
 "nbformat_minor": 4
}
