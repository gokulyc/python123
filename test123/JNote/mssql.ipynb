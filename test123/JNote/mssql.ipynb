{
 "cells": [
  {
   "cell_type": "code",
   "execution_count": 19,
   "metadata": {},
   "outputs": [],
   "source": [
    "import pyodbc\n",
    "import pandas as pd"
   ]
  },
  {
   "cell_type": "code",
   "execution_count": 22,
   "metadata": {},
   "outputs": [],
   "source": [
    "#conn = pymssql.connect(server=r'localhost', user='sa', password='123456', database='EmployeeDB')\n",
    "conn = pyodbc.connect(r'Driver={SQL Server};Server=LAPTOP-LC4B480R\\SQLEXPRESS;Database=EmployeeDB;Trusted_Connection=yes;')"
   ]
  },
  {
   "cell_type": "code",
   "execution_count": 28,
   "metadata": {},
   "outputs": [
    {
     "name": "stdout",
     "output_type": "stream",
     "text": [
      "   ID FirstName  LastName  Gender  Salary\n",
      "0   1      Mark  Hastings    Male   60000\n",
      "1   2     Steve     Pound    Male   45000\n",
      "2   3       Ben   Hoskins    Male   70000\n",
      "3   4    Philip  Hastings    Male   45000\n",
      "4   5      Mary   Lambeth  Female   30000\n",
      "5   6   Valarie   Vikings  Female   35000\n",
      "6   7      John  Stanmore    Male   80000\n"
     ]
    }
   ],
   "source": [
    "query = \"SELECT * FROM Employees\"\n",
    "df = pd.read_sql(query, conn)\n",
    "print(df.head(10))"
   ]
  }
 ],
 "metadata": {
  "kernelspec": {
   "display_name": "Python 3",
   "language": "python",
   "name": "python3"
  },
  "language_info": {
   "codemirror_mode": {
    "name": "ipython",
    "version": 3
   },
   "file_extension": ".py",
   "mimetype": "text/x-python",
   "name": "python",
   "nbconvert_exporter": "python",
   "pygments_lexer": "ipython3",
   "version": "3.7.3"
  }
 },
 "nbformat": 4,
 "nbformat_minor": 2
}
