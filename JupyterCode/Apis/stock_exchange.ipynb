{
 "cells": [
  {
   "cell_type": "markdown",
   "metadata": {},
   "source": [
    "# https://marketstack.com/"
   ]
  },
  {
   "cell_type": "code",
   "execution_count": 1,
   "metadata": {
    "ExecuteTime": {
     "end_time": "2020-11-17T14:16:50.768865Z",
     "start_time": "2020-11-17T14:16:46.539573Z"
    }
   },
   "outputs": [],
   "source": [
    "import requests\n",
    "import pandas as pd\n",
    "import numpy as np\n",
    "import matplotlib.pyplot as plt\n",
    "import seaborn as sns\n",
    "sns.set()"
   ]
  },
  {
   "cell_type": "code",
   "execution_count": 2,
   "metadata": {
    "ExecuteTime": {
     "end_time": "2020-11-17T14:16:50.784425Z",
     "start_time": "2020-11-17T14:16:50.771712Z"
    }
   },
   "outputs": [],
   "source": [
    "import json\n",
    "import getpass"
   ]
  },
  {
   "cell_type": "code",
   "execution_count": 3,
   "metadata": {
    "ExecuteTime": {
     "end_time": "2020-11-17T14:17:05.111491Z",
     "start_time": "2020-11-17T14:16:50.790429Z"
    }
   },
   "outputs": [
    {
     "name": "stdout",
     "output_type": "stream",
     "text": [
      "········\n"
     ]
    }
   ],
   "source": [
    "API_Access_Key=getpass.getpass()"
   ]
  },
  {
   "cell_type": "code",
   "execution_count": 5,
   "metadata": {
    "ExecuteTime": {
     "end_time": "2020-11-17T14:17:14.576455Z",
     "start_time": "2020-11-17T14:17:14.561459Z"
    }
   },
   "outputs": [],
   "source": [
    "root_url='http://api.marketstack.com/v1/'"
   ]
  },
  {
   "cell_type": "code",
   "execution_count": 6,
   "metadata": {
    "ExecuteTime": {
     "end_time": "2020-11-17T14:17:16.371510Z",
     "start_time": "2020-11-17T14:17:14.856074Z"
    }
   },
   "outputs": [],
   "source": [
    "# http://api.marketstack.com/v1/exchanges\n",
    "#     ? access_key = YOUR_ACCESS_KEY\n",
    "params={'access_key':API_Access_Key}\n",
    "\n",
    "response=requests.get(root_url+'exchanges',params=params)\n"
   ]
  },
  {
   "cell_type": "code",
   "execution_count": 7,
   "metadata": {
    "ExecuteTime": {
     "end_time": "2020-11-17T14:17:16.386828Z",
     "start_time": "2020-11-17T14:17:16.373791Z"
    }
   },
   "outputs": [
    {
     "data": {
      "text/plain": [
       "200"
      ]
     },
     "execution_count": 7,
     "metadata": {},
     "output_type": "execute_result"
    }
   ],
   "source": [
    "response.status_code"
   ]
  },
  {
   "cell_type": "code",
   "execution_count": 8,
   "metadata": {
    "ExecuteTime": {
     "end_time": "2020-11-17T14:17:16.402826Z",
     "start_time": "2020-11-17T14:17:16.390795Z"
    }
   },
   "outputs": [],
   "source": [
    "exchanges=response.json()\n",
    "# exchanges"
   ]
  },
  {
   "cell_type": "code",
   "execution_count": 9,
   "metadata": {
    "ExecuteTime": {
     "end_time": "2020-11-17T14:17:16.418790Z",
     "start_time": "2020-11-17T14:17:16.405793Z"
    }
   },
   "outputs": [
    {
     "data": {
      "text/plain": [
       "{'name': 'New York Stock Exchange',\n",
       " 'acronym': 'NYSE',\n",
       " 'mic': 'XNYS',\n",
       " 'country': 'USA',\n",
       " 'country_code': 'US',\n",
       " 'city': 'New York',\n",
       " 'website': 'www.nyse.com',\n",
       " 'timezone': {'timezone': 'America/New_York',\n",
       "  'abbr': 'EST',\n",
       "  'abbr_dst': 'EDT'},\n",
       " 'currency': {'code': 'USD', 'symbol': '$', 'name': 'US Dollar'}}"
      ]
     },
     "execution_count": 9,
     "metadata": {},
     "output_type": "execute_result"
    }
   ],
   "source": [
    "exchanges['data'][1]"
   ]
  },
  {
   "cell_type": "code",
   "execution_count": 10,
   "metadata": {
    "ExecuteTime": {
     "end_time": "2020-11-17T14:17:16.434830Z",
     "start_time": "2020-11-17T14:17:16.422806Z"
    }
   },
   "outputs": [],
   "source": [
    "# for exchange in exchanges['data']:\n",
    "    "
   ]
  },
  {
   "cell_type": "code",
   "execution_count": 11,
   "metadata": {
    "ExecuteTime": {
     "end_time": "2020-11-17T14:17:16.466791Z",
     "start_time": "2020-11-17T14:17:16.436791Z"
    }
   },
   "outputs": [],
   "source": [
    "stock_exchange_data=pd.DataFrame(exchanges['data'])"
   ]
  },
  {
   "cell_type": "code",
   "execution_count": 12,
   "metadata": {
    "ExecuteTime": {
     "end_time": "2020-11-17T14:17:16.482826Z",
     "start_time": "2020-11-17T14:17:16.468791Z"
    }
   },
   "outputs": [
    {
     "name": "stdout",
     "output_type": "stream",
     "text": [
      "<class 'pandas.core.frame.DataFrame'>\n",
      "RangeIndex: 69 entries, 0 to 68\n",
      "Data columns (total 9 columns):\n",
      " #   Column        Non-Null Count  Dtype \n",
      "---  ------        --------------  ----- \n",
      " 0   name          69 non-null     object\n",
      " 1   acronym       68 non-null     object\n",
      " 2   mic           69 non-null     object\n",
      " 3   country       68 non-null     object\n",
      " 4   country_code  69 non-null     object\n",
      " 5   city          68 non-null     object\n",
      " 6   website       69 non-null     object\n",
      " 7   timezone      68 non-null     object\n",
      " 8   currency      68 non-null     object\n",
      "dtypes: object(9)\n",
      "memory usage: 5.0+ KB\n"
     ]
    }
   ],
   "source": [
    "stock_exchange_data.info()"
   ]
  },
  {
   "cell_type": "code",
   "execution_count": 13,
   "metadata": {
    "ExecuteTime": {
     "end_time": "2020-11-17T14:17:16.781951Z",
     "start_time": "2020-11-17T14:17:16.728810Z"
    }
   },
   "outputs": [
    {
     "data": {
      "text/html": [
       "<div>\n",
       "<style scoped>\n",
       "    .dataframe tbody tr th:only-of-type {\n",
       "        vertical-align: middle;\n",
       "    }\n",
       "\n",
       "    .dataframe tbody tr th {\n",
       "        vertical-align: top;\n",
       "    }\n",
       "\n",
       "    .dataframe thead th {\n",
       "        text-align: right;\n",
       "    }\n",
       "</style>\n",
       "<table border=\"1\" class=\"dataframe\">\n",
       "  <thead>\n",
       "    <tr style=\"text-align: right;\">\n",
       "      <th></th>\n",
       "      <th>name</th>\n",
       "      <th>acronym</th>\n",
       "      <th>mic</th>\n",
       "      <th>country</th>\n",
       "      <th>country_code</th>\n",
       "      <th>city</th>\n",
       "      <th>website</th>\n",
       "      <th>timezone</th>\n",
       "      <th>currency</th>\n",
       "    </tr>\n",
       "  </thead>\n",
       "  <tbody>\n",
       "    <tr>\n",
       "      <th>count</th>\n",
       "      <td>69</td>\n",
       "      <td>68</td>\n",
       "      <td>69</td>\n",
       "      <td>68</td>\n",
       "      <td>69</td>\n",
       "      <td>68</td>\n",
       "      <td>69</td>\n",
       "      <td>68</td>\n",
       "      <td>68</td>\n",
       "    </tr>\n",
       "    <tr>\n",
       "      <th>unique</th>\n",
       "      <td>69</td>\n",
       "      <td>63</td>\n",
       "      <td>69</td>\n",
       "      <td>49</td>\n",
       "      <td>50</td>\n",
       "      <td>55</td>\n",
       "      <td>52</td>\n",
       "      <td>48</td>\n",
       "      <td>36</td>\n",
       "    </tr>\n",
       "    <tr>\n",
       "      <th>top</th>\n",
       "      <td>Belgrade Stock Exchange</td>\n",
       "      <td>Euronext</td>\n",
       "      <td>XCAI</td>\n",
       "      <td>USA</td>\n",
       "      <td>US</td>\n",
       "      <td>New York</td>\n",
       "      <td>www.otcmarkets.com</td>\n",
       "      <td>{'timezone': 'America/New_York', 'abbr': 'EST'...</td>\n",
       "      <td>{'code': 'EUR', 'symbol': '€', 'name': 'Euro'}</td>\n",
       "    </tr>\n",
       "    <tr>\n",
       "      <th>freq</th>\n",
       "      <td>1</td>\n",
       "      <td>4</td>\n",
       "      <td>1</td>\n",
       "      <td>13</td>\n",
       "      <td>13</td>\n",
       "      <td>11</td>\n",
       "      <td>6</td>\n",
       "      <td>14</td>\n",
       "      <td>16</td>\n",
       "    </tr>\n",
       "  </tbody>\n",
       "</table>\n",
       "</div>"
      ],
      "text/plain": [
       "                           name   acronym   mic country country_code  \\\n",
       "count                        69        68    69      68           69   \n",
       "unique                       69        63    69      49           50   \n",
       "top     Belgrade Stock Exchange  Euronext  XCAI     USA           US   \n",
       "freq                          1         4     1      13           13   \n",
       "\n",
       "            city             website  \\\n",
       "count         68                  69   \n",
       "unique        55                  52   \n",
       "top     New York  www.otcmarkets.com   \n",
       "freq          11                   6   \n",
       "\n",
       "                                                 timezone  \\\n",
       "count                                                  68   \n",
       "unique                                                 48   \n",
       "top     {'timezone': 'America/New_York', 'abbr': 'EST'...   \n",
       "freq                                                   14   \n",
       "\n",
       "                                              currency  \n",
       "count                                               68  \n",
       "unique                                              36  \n",
       "top     {'code': 'EUR', 'symbol': '€', 'name': 'Euro'}  \n",
       "freq                                                16  "
      ]
     },
     "execution_count": 13,
     "metadata": {},
     "output_type": "execute_result"
    }
   ],
   "source": [
    "stock_exchange_data.describe()"
   ]
  },
  {
   "cell_type": "code",
   "execution_count": 14,
   "metadata": {
    "ExecuteTime": {
     "end_time": "2020-11-17T14:17:17.059371Z",
     "start_time": "2020-11-17T14:17:17.044374Z"
    }
   },
   "outputs": [
    {
     "data": {
      "text/plain": [
       "array(['USA', 'Argentina', 'Bahrain', 'Belgium', 'Brazil', 'Canada',\n",
       "       'Chile', 'China', 'Colombia', 'Denmark', 'Egypt', 'Estonia',\n",
       "       'Finland', 'France', 'Germany', 'Hong Kong', 'Iceland', 'India',\n",
       "       'Indonesia', 'Israel', 'Italy', 'Japan', 'Latvia', 'Lithuania',\n",
       "       'Malaysia', 'Mexico', 'Netherlands', 'New Zealand', 'Nigeria',\n",
       "       'Norway', 'Peru', 'Poland', 'Portugal', 'Qatar', 'Russia',\n",
       "       'Saudi Arabia', 'Serbia', 'Singapore', 'South Africa',\n",
       "       'South Korea', 'Spain', 'Sweden', 'Switzerland', 'Taiwan',\n",
       "       'Thailand', 'Turkey', 'United Arab Emirates', 'United Kingdom',\n",
       "       'Vietnam', None], dtype=object)"
      ]
     },
     "execution_count": 14,
     "metadata": {},
     "output_type": "execute_result"
    }
   ],
   "source": [
    "stock_exchange_data['country'].unique()"
   ]
  },
  {
   "cell_type": "code",
   "execution_count": 15,
   "metadata": {
    "ExecuteTime": {
     "end_time": "2020-11-17T14:17:17.389197Z",
     "start_time": "2020-11-17T14:17:17.359165Z"
    }
   },
   "outputs": [
    {
     "data": {
      "text/html": [
       "<div>\n",
       "<style scoped>\n",
       "    .dataframe tbody tr th:only-of-type {\n",
       "        vertical-align: middle;\n",
       "    }\n",
       "\n",
       "    .dataframe tbody tr th {\n",
       "        vertical-align: top;\n",
       "    }\n",
       "\n",
       "    .dataframe thead th {\n",
       "        text-align: right;\n",
       "    }\n",
       "</style>\n",
       "<table border=\"1\" class=\"dataframe\">\n",
       "  <thead>\n",
       "    <tr style=\"text-align: right;\">\n",
       "      <th></th>\n",
       "      <th>name</th>\n",
       "      <th>acronym</th>\n",
       "      <th>mic</th>\n",
       "      <th>country</th>\n",
       "      <th>country_code</th>\n",
       "      <th>city</th>\n",
       "      <th>website</th>\n",
       "      <th>timezone</th>\n",
       "      <th>currency</th>\n",
       "    </tr>\n",
       "  </thead>\n",
       "  <tbody>\n",
       "    <tr>\n",
       "      <th>24</th>\n",
       "      <td>Bombay Stock Exchange</td>\n",
       "      <td>MSE</td>\n",
       "      <td>XBOM</td>\n",
       "      <td>India</td>\n",
       "      <td>IN</td>\n",
       "      <td>Mumbai</td>\n",
       "      <td>www.bseindia.com</td>\n",
       "      <td>{'timezone': 'Asia/Kolkata', 'abbr': 'IST', 'a...</td>\n",
       "      <td>{'code': 'INR', 'symbol': 'Rs', 'name': 'India...</td>\n",
       "    </tr>\n",
       "    <tr>\n",
       "      <th>25</th>\n",
       "      <td>National Stock Exchange India</td>\n",
       "      <td>NSE</td>\n",
       "      <td>XNSE</td>\n",
       "      <td>India</td>\n",
       "      <td>IN</td>\n",
       "      <td>Mumbai</td>\n",
       "      <td>www.nseindia.com</td>\n",
       "      <td>{'timezone': 'Asia/Kolkata', 'abbr': 'IST', 'a...</td>\n",
       "      <td>{'code': 'INR', 'symbol': 'Rs', 'name': 'India...</td>\n",
       "    </tr>\n",
       "  </tbody>\n",
       "</table>\n",
       "</div>"
      ],
      "text/plain": [
       "                             name acronym   mic country country_code    city  \\\n",
       "24          Bombay Stock Exchange     MSE  XBOM   India           IN  Mumbai   \n",
       "25  National Stock Exchange India     NSE  XNSE   India           IN  Mumbai   \n",
       "\n",
       "             website                                           timezone  \\\n",
       "24  www.bseindia.com  {'timezone': 'Asia/Kolkata', 'abbr': 'IST', 'a...   \n",
       "25  www.nseindia.com  {'timezone': 'Asia/Kolkata', 'abbr': 'IST', 'a...   \n",
       "\n",
       "                                             currency  \n",
       "24  {'code': 'INR', 'symbol': 'Rs', 'name': 'India...  \n",
       "25  {'code': 'INR', 'symbol': 'Rs', 'name': 'India...  "
      ]
     },
     "execution_count": 15,
     "metadata": {},
     "output_type": "execute_result"
    }
   ],
   "source": [
    "stock_exchange_data[stock_exchange_data['country']=='India']"
   ]
  },
  {
   "cell_type": "code",
   "execution_count": 16,
   "metadata": {
    "ExecuteTime": {
     "end_time": "2020-11-17T14:17:17.653329Z",
     "start_time": "2020-11-17T14:17:17.633945Z"
    }
   },
   "outputs": [
    {
     "data": {
      "text/plain": [
       "'http://api.marketstack.com/v1/'"
      ]
     },
     "execution_count": 16,
     "metadata": {},
     "output_type": "execute_result"
    }
   ],
   "source": [
    "root_url"
   ]
  },
  {
   "cell_type": "code",
   "execution_count": 17,
   "metadata": {
    "ExecuteTime": {
     "end_time": "2020-11-17T14:17:19.688598Z",
     "start_time": "2020-11-17T14:17:17.862853Z"
    }
   },
   "outputs": [],
   "source": [
    "# http://api.marketstack.com/v1/eod\n",
    "#     ? access_key = YOUR_ACCESS_KEY\n",
    "#     & symbols = AAPL\n",
    "params={'access_key':API_Access_Key,'symbols':'AAPL'}\n",
    "response=requests.get(root_url+'eod',params=params)"
   ]
  },
  {
   "cell_type": "code",
   "execution_count": 18,
   "metadata": {
    "ExecuteTime": {
     "end_time": "2020-11-17T14:17:19.703821Z",
     "start_time": "2020-11-17T14:17:19.692653Z"
    }
   },
   "outputs": [],
   "source": [
    "AAPL_data=response.json()['data']"
   ]
  },
  {
   "cell_type": "code",
   "execution_count": 19,
   "metadata": {
    "ExecuteTime": {
     "end_time": "2020-11-17T14:17:19.735623Z",
     "start_time": "2020-11-17T14:17:19.710613Z"
    }
   },
   "outputs": [],
   "source": [
    "AAPL_df=pd.DataFrame(AAPL_data)"
   ]
  },
  {
   "cell_type": "code",
   "execution_count": 20,
   "metadata": {
    "ExecuteTime": {
     "end_time": "2020-11-17T14:17:19.767397Z",
     "start_time": "2020-11-17T14:17:19.737401Z"
    }
   },
   "outputs": [
    {
     "data": {
      "text/html": [
       "<div>\n",
       "<style scoped>\n",
       "    .dataframe tbody tr th:only-of-type {\n",
       "        vertical-align: middle;\n",
       "    }\n",
       "\n",
       "    .dataframe tbody tr th {\n",
       "        vertical-align: top;\n",
       "    }\n",
       "\n",
       "    .dataframe thead th {\n",
       "        text-align: right;\n",
       "    }\n",
       "</style>\n",
       "<table border=\"1\" class=\"dataframe\">\n",
       "  <thead>\n",
       "    <tr style=\"text-align: right;\">\n",
       "      <th></th>\n",
       "      <th>open</th>\n",
       "      <th>high</th>\n",
       "      <th>low</th>\n",
       "      <th>close</th>\n",
       "      <th>volume</th>\n",
       "      <th>adj_high</th>\n",
       "      <th>adj_low</th>\n",
       "      <th>adj_close</th>\n",
       "      <th>adj_open</th>\n",
       "      <th>adj_volume</th>\n",
       "      <th>symbol</th>\n",
       "      <th>exchange</th>\n",
       "      <th>date</th>\n",
       "    </tr>\n",
       "  </thead>\n",
       "  <tbody>\n",
       "    <tr>\n",
       "      <th>0</th>\n",
       "      <td>118.92</td>\n",
       "      <td>120.9900</td>\n",
       "      <td>118.146</td>\n",
       "      <td>120.30</td>\n",
       "      <td>91183018.0</td>\n",
       "      <td>120.9900</td>\n",
       "      <td>118.146</td>\n",
       "      <td>120.30</td>\n",
       "      <td>118.92</td>\n",
       "      <td>91183018.0</td>\n",
       "      <td>AAPL</td>\n",
       "      <td>XNAS</td>\n",
       "      <td>2020-11-16T00:00:00+0000</td>\n",
       "    </tr>\n",
       "    <tr>\n",
       "      <th>1</th>\n",
       "      <td>119.44</td>\n",
       "      <td>119.6717</td>\n",
       "      <td>117.870</td>\n",
       "      <td>119.26</td>\n",
       "      <td>81688586.0</td>\n",
       "      <td>119.6717</td>\n",
       "      <td>117.870</td>\n",
       "      <td>119.26</td>\n",
       "      <td>119.44</td>\n",
       "      <td>81688586.0</td>\n",
       "      <td>AAPL</td>\n",
       "      <td>XNAS</td>\n",
       "      <td>2020-11-13T00:00:00+0000</td>\n",
       "    </tr>\n",
       "    <tr>\n",
       "      <th>2</th>\n",
       "      <td>119.62</td>\n",
       "      <td>120.5300</td>\n",
       "      <td>118.570</td>\n",
       "      <td>119.21</td>\n",
       "      <td>103350674.0</td>\n",
       "      <td>120.5300</td>\n",
       "      <td>118.570</td>\n",
       "      <td>119.21</td>\n",
       "      <td>119.62</td>\n",
       "      <td>103350674.0</td>\n",
       "      <td>AAPL</td>\n",
       "      <td>XNAS</td>\n",
       "      <td>2020-11-12T00:00:00+0000</td>\n",
       "    </tr>\n",
       "    <tr>\n",
       "      <th>3</th>\n",
       "      <td>117.19</td>\n",
       "      <td>119.6300</td>\n",
       "      <td>116.440</td>\n",
       "      <td>119.49</td>\n",
       "      <td>112294954.0</td>\n",
       "      <td>119.6300</td>\n",
       "      <td>116.440</td>\n",
       "      <td>119.49</td>\n",
       "      <td>117.19</td>\n",
       "      <td>112294954.0</td>\n",
       "      <td>AAPL</td>\n",
       "      <td>XNAS</td>\n",
       "      <td>2020-11-11T00:00:00+0000</td>\n",
       "    </tr>\n",
       "    <tr>\n",
       "      <th>4</th>\n",
       "      <td>115.55</td>\n",
       "      <td>117.5900</td>\n",
       "      <td>114.130</td>\n",
       "      <td>115.97</td>\n",
       "      <td>138023390.0</td>\n",
       "      <td>117.5900</td>\n",
       "      <td>114.130</td>\n",
       "      <td>115.97</td>\n",
       "      <td>115.55</td>\n",
       "      <td>138023390.0</td>\n",
       "      <td>AAPL</td>\n",
       "      <td>XNAS</td>\n",
       "      <td>2020-11-10T00:00:00+0000</td>\n",
       "    </tr>\n",
       "    <tr>\n",
       "      <th>...</th>\n",
       "      <td>...</td>\n",
       "      <td>...</td>\n",
       "      <td>...</td>\n",
       "      <td>...</td>\n",
       "      <td>...</td>\n",
       "      <td>...</td>\n",
       "      <td>...</td>\n",
       "      <td>...</td>\n",
       "      <td>...</td>\n",
       "      <td>...</td>\n",
       "      <td>...</td>\n",
       "      <td>...</td>\n",
       "      <td>...</td>\n",
       "    </tr>\n",
       "    <tr>\n",
       "      <th>95</th>\n",
       "      <td>367.85</td>\n",
       "      <td>370.4700</td>\n",
       "      <td>363.640</td>\n",
       "      <td>364.11</td>\n",
       "      <td>27764470.0</td>\n",
       "      <td>370.4700</td>\n",
       "      <td>363.640</td>\n",
       "      <td>364.11</td>\n",
       "      <td>367.85</td>\n",
       "      <td>27764470.0</td>\n",
       "      <td>AAPL</td>\n",
       "      <td>XNAS</td>\n",
       "      <td>2020-07-02T00:00:00+0000</td>\n",
       "    </tr>\n",
       "    <tr>\n",
       "      <th>96</th>\n",
       "      <td>365.12</td>\n",
       "      <td>367.3600</td>\n",
       "      <td>363.910</td>\n",
       "      <td>364.11</td>\n",
       "      <td>27263209.0</td>\n",
       "      <td>367.3600</td>\n",
       "      <td>363.910</td>\n",
       "      <td>364.11</td>\n",
       "      <td>365.12</td>\n",
       "      <td>27263209.0</td>\n",
       "      <td>AAPL</td>\n",
       "      <td>XNAS</td>\n",
       "      <td>2020-07-01T00:00:00+0000</td>\n",
       "    </tr>\n",
       "    <tr>\n",
       "      <th>97</th>\n",
       "      <td>360.08</td>\n",
       "      <td>365.9800</td>\n",
       "      <td>360.000</td>\n",
       "      <td>364.80</td>\n",
       "      <td>35055821.0</td>\n",
       "      <td>365.9800</td>\n",
       "      <td>360.000</td>\n",
       "      <td>364.80</td>\n",
       "      <td>360.08</td>\n",
       "      <td>35055821.0</td>\n",
       "      <td>AAPL</td>\n",
       "      <td>XNAS</td>\n",
       "      <td>2020-06-30T00:00:00+0000</td>\n",
       "    </tr>\n",
       "    <tr>\n",
       "      <th>98</th>\n",
       "      <td>353.25</td>\n",
       "      <td>362.1736</td>\n",
       "      <td>351.280</td>\n",
       "      <td>361.78</td>\n",
       "      <td>32661519.0</td>\n",
       "      <td>362.1736</td>\n",
       "      <td>351.280</td>\n",
       "      <td>361.78</td>\n",
       "      <td>353.25</td>\n",
       "      <td>32661519.0</td>\n",
       "      <td>AAPL</td>\n",
       "      <td>XNAS</td>\n",
       "      <td>2020-06-29T00:00:00+0000</td>\n",
       "    </tr>\n",
       "    <tr>\n",
       "      <th>99</th>\n",
       "      <td>364.41</td>\n",
       "      <td>365.3200</td>\n",
       "      <td>353.020</td>\n",
       "      <td>353.63</td>\n",
       "      <td>51314211.0</td>\n",
       "      <td>365.3200</td>\n",
       "      <td>353.020</td>\n",
       "      <td>353.63</td>\n",
       "      <td>364.41</td>\n",
       "      <td>51314211.0</td>\n",
       "      <td>AAPL</td>\n",
       "      <td>XNAS</td>\n",
       "      <td>2020-06-26T00:00:00+0000</td>\n",
       "    </tr>\n",
       "  </tbody>\n",
       "</table>\n",
       "<p>100 rows × 13 columns</p>\n",
       "</div>"
      ],
      "text/plain": [
       "      open      high      low   close       volume  adj_high  adj_low  \\\n",
       "0   118.92  120.9900  118.146  120.30   91183018.0  120.9900  118.146   \n",
       "1   119.44  119.6717  117.870  119.26   81688586.0  119.6717  117.870   \n",
       "2   119.62  120.5300  118.570  119.21  103350674.0  120.5300  118.570   \n",
       "3   117.19  119.6300  116.440  119.49  112294954.0  119.6300  116.440   \n",
       "4   115.55  117.5900  114.130  115.97  138023390.0  117.5900  114.130   \n",
       "..     ...       ...      ...     ...          ...       ...      ...   \n",
       "95  367.85  370.4700  363.640  364.11   27764470.0  370.4700  363.640   \n",
       "96  365.12  367.3600  363.910  364.11   27263209.0  367.3600  363.910   \n",
       "97  360.08  365.9800  360.000  364.80   35055821.0  365.9800  360.000   \n",
       "98  353.25  362.1736  351.280  361.78   32661519.0  362.1736  351.280   \n",
       "99  364.41  365.3200  353.020  353.63   51314211.0  365.3200  353.020   \n",
       "\n",
       "    adj_close  adj_open   adj_volume symbol exchange                      date  \n",
       "0      120.30    118.92   91183018.0   AAPL     XNAS  2020-11-16T00:00:00+0000  \n",
       "1      119.26    119.44   81688586.0   AAPL     XNAS  2020-11-13T00:00:00+0000  \n",
       "2      119.21    119.62  103350674.0   AAPL     XNAS  2020-11-12T00:00:00+0000  \n",
       "3      119.49    117.19  112294954.0   AAPL     XNAS  2020-11-11T00:00:00+0000  \n",
       "4      115.97    115.55  138023390.0   AAPL     XNAS  2020-11-10T00:00:00+0000  \n",
       "..        ...       ...          ...    ...      ...                       ...  \n",
       "95     364.11    367.85   27764470.0   AAPL     XNAS  2020-07-02T00:00:00+0000  \n",
       "96     364.11    365.12   27263209.0   AAPL     XNAS  2020-07-01T00:00:00+0000  \n",
       "97     364.80    360.08   35055821.0   AAPL     XNAS  2020-06-30T00:00:00+0000  \n",
       "98     361.78    353.25   32661519.0   AAPL     XNAS  2020-06-29T00:00:00+0000  \n",
       "99     353.63    364.41   51314211.0   AAPL     XNAS  2020-06-26T00:00:00+0000  \n",
       "\n",
       "[100 rows x 13 columns]"
      ]
     },
     "execution_count": 20,
     "metadata": {},
     "output_type": "execute_result"
    }
   ],
   "source": [
    "AAPL_df"
   ]
  },
  {
   "cell_type": "code",
   "execution_count": 21,
   "metadata": {
    "ExecuteTime": {
     "end_time": "2020-11-17T14:17:19.782402Z",
     "start_time": "2020-11-17T14:17:19.769399Z"
    }
   },
   "outputs": [
    {
     "name": "stdout",
     "output_type": "stream",
     "text": [
      "<class 'pandas.core.frame.DataFrame'>\n",
      "RangeIndex: 100 entries, 0 to 99\n",
      "Data columns (total 13 columns):\n",
      " #   Column      Non-Null Count  Dtype  \n",
      "---  ------      --------------  -----  \n",
      " 0   open        100 non-null    float64\n",
      " 1   high        100 non-null    float64\n",
      " 2   low         100 non-null    float64\n",
      " 3   close       100 non-null    float64\n",
      " 4   volume      100 non-null    float64\n",
      " 5   adj_high    100 non-null    float64\n",
      " 6   adj_low     100 non-null    float64\n",
      " 7   adj_close   100 non-null    float64\n",
      " 8   adj_open    100 non-null    float64\n",
      " 9   adj_volume  100 non-null    float64\n",
      " 10  symbol      100 non-null    object \n",
      " 11  exchange    100 non-null    object \n",
      " 12  date        100 non-null    object \n",
      "dtypes: float64(10), object(3)\n",
      "memory usage: 10.3+ KB\n"
     ]
    }
   ],
   "source": [
    "AAPL_df.info()"
   ]
  },
  {
   "cell_type": "code",
   "execution_count": 22,
   "metadata": {
    "ExecuteTime": {
     "end_time": "2020-11-17T14:17:19.798401Z",
     "start_time": "2020-11-17T14:17:19.787401Z"
    }
   },
   "outputs": [],
   "source": [
    "AAPL_df['Date']=pd.to_datetime(AAPL_df['date'])"
   ]
  },
  {
   "cell_type": "code",
   "execution_count": 23,
   "metadata": {
    "ExecuteTime": {
     "end_time": "2020-11-17T14:17:19.844435Z",
     "start_time": "2020-11-17T14:17:19.800399Z"
    }
   },
   "outputs": [
    {
     "data": {
      "text/html": [
       "<div>\n",
       "<style scoped>\n",
       "    .dataframe tbody tr th:only-of-type {\n",
       "        vertical-align: middle;\n",
       "    }\n",
       "\n",
       "    .dataframe tbody tr th {\n",
       "        vertical-align: top;\n",
       "    }\n",
       "\n",
       "    .dataframe thead th {\n",
       "        text-align: right;\n",
       "    }\n",
       "</style>\n",
       "<table border=\"1\" class=\"dataframe\">\n",
       "  <thead>\n",
       "    <tr style=\"text-align: right;\">\n",
       "      <th></th>\n",
       "      <th>open</th>\n",
       "      <th>high</th>\n",
       "      <th>low</th>\n",
       "      <th>close</th>\n",
       "      <th>volume</th>\n",
       "      <th>adj_high</th>\n",
       "      <th>adj_low</th>\n",
       "      <th>adj_close</th>\n",
       "      <th>adj_open</th>\n",
       "      <th>adj_volume</th>\n",
       "      <th>symbol</th>\n",
       "      <th>exchange</th>\n",
       "      <th>date</th>\n",
       "      <th>Date</th>\n",
       "    </tr>\n",
       "  </thead>\n",
       "  <tbody>\n",
       "    <tr>\n",
       "      <th>0</th>\n",
       "      <td>118.92</td>\n",
       "      <td>120.9900</td>\n",
       "      <td>118.146</td>\n",
       "      <td>120.30</td>\n",
       "      <td>91183018.0</td>\n",
       "      <td>120.9900</td>\n",
       "      <td>118.146</td>\n",
       "      <td>120.30</td>\n",
       "      <td>118.92</td>\n",
       "      <td>91183018.0</td>\n",
       "      <td>AAPL</td>\n",
       "      <td>XNAS</td>\n",
       "      <td>2020-11-16T00:00:00+0000</td>\n",
       "      <td>2020-11-16 00:00:00+00:00</td>\n",
       "    </tr>\n",
       "    <tr>\n",
       "      <th>1</th>\n",
       "      <td>119.44</td>\n",
       "      <td>119.6717</td>\n",
       "      <td>117.870</td>\n",
       "      <td>119.26</td>\n",
       "      <td>81688586.0</td>\n",
       "      <td>119.6717</td>\n",
       "      <td>117.870</td>\n",
       "      <td>119.26</td>\n",
       "      <td>119.44</td>\n",
       "      <td>81688586.0</td>\n",
       "      <td>AAPL</td>\n",
       "      <td>XNAS</td>\n",
       "      <td>2020-11-13T00:00:00+0000</td>\n",
       "      <td>2020-11-13 00:00:00+00:00</td>\n",
       "    </tr>\n",
       "    <tr>\n",
       "      <th>2</th>\n",
       "      <td>119.62</td>\n",
       "      <td>120.5300</td>\n",
       "      <td>118.570</td>\n",
       "      <td>119.21</td>\n",
       "      <td>103350674.0</td>\n",
       "      <td>120.5300</td>\n",
       "      <td>118.570</td>\n",
       "      <td>119.21</td>\n",
       "      <td>119.62</td>\n",
       "      <td>103350674.0</td>\n",
       "      <td>AAPL</td>\n",
       "      <td>XNAS</td>\n",
       "      <td>2020-11-12T00:00:00+0000</td>\n",
       "      <td>2020-11-12 00:00:00+00:00</td>\n",
       "    </tr>\n",
       "    <tr>\n",
       "      <th>3</th>\n",
       "      <td>117.19</td>\n",
       "      <td>119.6300</td>\n",
       "      <td>116.440</td>\n",
       "      <td>119.49</td>\n",
       "      <td>112294954.0</td>\n",
       "      <td>119.6300</td>\n",
       "      <td>116.440</td>\n",
       "      <td>119.49</td>\n",
       "      <td>117.19</td>\n",
       "      <td>112294954.0</td>\n",
       "      <td>AAPL</td>\n",
       "      <td>XNAS</td>\n",
       "      <td>2020-11-11T00:00:00+0000</td>\n",
       "      <td>2020-11-11 00:00:00+00:00</td>\n",
       "    </tr>\n",
       "    <tr>\n",
       "      <th>4</th>\n",
       "      <td>115.55</td>\n",
       "      <td>117.5900</td>\n",
       "      <td>114.130</td>\n",
       "      <td>115.97</td>\n",
       "      <td>138023390.0</td>\n",
       "      <td>117.5900</td>\n",
       "      <td>114.130</td>\n",
       "      <td>115.97</td>\n",
       "      <td>115.55</td>\n",
       "      <td>138023390.0</td>\n",
       "      <td>AAPL</td>\n",
       "      <td>XNAS</td>\n",
       "      <td>2020-11-10T00:00:00+0000</td>\n",
       "      <td>2020-11-10 00:00:00+00:00</td>\n",
       "    </tr>\n",
       "    <tr>\n",
       "      <th>...</th>\n",
       "      <td>...</td>\n",
       "      <td>...</td>\n",
       "      <td>...</td>\n",
       "      <td>...</td>\n",
       "      <td>...</td>\n",
       "      <td>...</td>\n",
       "      <td>...</td>\n",
       "      <td>...</td>\n",
       "      <td>...</td>\n",
       "      <td>...</td>\n",
       "      <td>...</td>\n",
       "      <td>...</td>\n",
       "      <td>...</td>\n",
       "      <td>...</td>\n",
       "    </tr>\n",
       "    <tr>\n",
       "      <th>95</th>\n",
       "      <td>367.85</td>\n",
       "      <td>370.4700</td>\n",
       "      <td>363.640</td>\n",
       "      <td>364.11</td>\n",
       "      <td>27764470.0</td>\n",
       "      <td>370.4700</td>\n",
       "      <td>363.640</td>\n",
       "      <td>364.11</td>\n",
       "      <td>367.85</td>\n",
       "      <td>27764470.0</td>\n",
       "      <td>AAPL</td>\n",
       "      <td>XNAS</td>\n",
       "      <td>2020-07-02T00:00:00+0000</td>\n",
       "      <td>2020-07-02 00:00:00+00:00</td>\n",
       "    </tr>\n",
       "    <tr>\n",
       "      <th>96</th>\n",
       "      <td>365.12</td>\n",
       "      <td>367.3600</td>\n",
       "      <td>363.910</td>\n",
       "      <td>364.11</td>\n",
       "      <td>27263209.0</td>\n",
       "      <td>367.3600</td>\n",
       "      <td>363.910</td>\n",
       "      <td>364.11</td>\n",
       "      <td>365.12</td>\n",
       "      <td>27263209.0</td>\n",
       "      <td>AAPL</td>\n",
       "      <td>XNAS</td>\n",
       "      <td>2020-07-01T00:00:00+0000</td>\n",
       "      <td>2020-07-01 00:00:00+00:00</td>\n",
       "    </tr>\n",
       "    <tr>\n",
       "      <th>97</th>\n",
       "      <td>360.08</td>\n",
       "      <td>365.9800</td>\n",
       "      <td>360.000</td>\n",
       "      <td>364.80</td>\n",
       "      <td>35055821.0</td>\n",
       "      <td>365.9800</td>\n",
       "      <td>360.000</td>\n",
       "      <td>364.80</td>\n",
       "      <td>360.08</td>\n",
       "      <td>35055821.0</td>\n",
       "      <td>AAPL</td>\n",
       "      <td>XNAS</td>\n",
       "      <td>2020-06-30T00:00:00+0000</td>\n",
       "      <td>2020-06-30 00:00:00+00:00</td>\n",
       "    </tr>\n",
       "    <tr>\n",
       "      <th>98</th>\n",
       "      <td>353.25</td>\n",
       "      <td>362.1736</td>\n",
       "      <td>351.280</td>\n",
       "      <td>361.78</td>\n",
       "      <td>32661519.0</td>\n",
       "      <td>362.1736</td>\n",
       "      <td>351.280</td>\n",
       "      <td>361.78</td>\n",
       "      <td>353.25</td>\n",
       "      <td>32661519.0</td>\n",
       "      <td>AAPL</td>\n",
       "      <td>XNAS</td>\n",
       "      <td>2020-06-29T00:00:00+0000</td>\n",
       "      <td>2020-06-29 00:00:00+00:00</td>\n",
       "    </tr>\n",
       "    <tr>\n",
       "      <th>99</th>\n",
       "      <td>364.41</td>\n",
       "      <td>365.3200</td>\n",
       "      <td>353.020</td>\n",
       "      <td>353.63</td>\n",
       "      <td>51314211.0</td>\n",
       "      <td>365.3200</td>\n",
       "      <td>353.020</td>\n",
       "      <td>353.63</td>\n",
       "      <td>364.41</td>\n",
       "      <td>51314211.0</td>\n",
       "      <td>AAPL</td>\n",
       "      <td>XNAS</td>\n",
       "      <td>2020-06-26T00:00:00+0000</td>\n",
       "      <td>2020-06-26 00:00:00+00:00</td>\n",
       "    </tr>\n",
       "  </tbody>\n",
       "</table>\n",
       "<p>100 rows × 14 columns</p>\n",
       "</div>"
      ],
      "text/plain": [
       "      open      high      low   close       volume  adj_high  adj_low  \\\n",
       "0   118.92  120.9900  118.146  120.30   91183018.0  120.9900  118.146   \n",
       "1   119.44  119.6717  117.870  119.26   81688586.0  119.6717  117.870   \n",
       "2   119.62  120.5300  118.570  119.21  103350674.0  120.5300  118.570   \n",
       "3   117.19  119.6300  116.440  119.49  112294954.0  119.6300  116.440   \n",
       "4   115.55  117.5900  114.130  115.97  138023390.0  117.5900  114.130   \n",
       "..     ...       ...      ...     ...          ...       ...      ...   \n",
       "95  367.85  370.4700  363.640  364.11   27764470.0  370.4700  363.640   \n",
       "96  365.12  367.3600  363.910  364.11   27263209.0  367.3600  363.910   \n",
       "97  360.08  365.9800  360.000  364.80   35055821.0  365.9800  360.000   \n",
       "98  353.25  362.1736  351.280  361.78   32661519.0  362.1736  351.280   \n",
       "99  364.41  365.3200  353.020  353.63   51314211.0  365.3200  353.020   \n",
       "\n",
       "    adj_close  adj_open   adj_volume symbol exchange  \\\n",
       "0      120.30    118.92   91183018.0   AAPL     XNAS   \n",
       "1      119.26    119.44   81688586.0   AAPL     XNAS   \n",
       "2      119.21    119.62  103350674.0   AAPL     XNAS   \n",
       "3      119.49    117.19  112294954.0   AAPL     XNAS   \n",
       "4      115.97    115.55  138023390.0   AAPL     XNAS   \n",
       "..        ...       ...          ...    ...      ...   \n",
       "95     364.11    367.85   27764470.0   AAPL     XNAS   \n",
       "96     364.11    365.12   27263209.0   AAPL     XNAS   \n",
       "97     364.80    360.08   35055821.0   AAPL     XNAS   \n",
       "98     361.78    353.25   32661519.0   AAPL     XNAS   \n",
       "99     353.63    364.41   51314211.0   AAPL     XNAS   \n",
       "\n",
       "                        date                      Date  \n",
       "0   2020-11-16T00:00:00+0000 2020-11-16 00:00:00+00:00  \n",
       "1   2020-11-13T00:00:00+0000 2020-11-13 00:00:00+00:00  \n",
       "2   2020-11-12T00:00:00+0000 2020-11-12 00:00:00+00:00  \n",
       "3   2020-11-11T00:00:00+0000 2020-11-11 00:00:00+00:00  \n",
       "4   2020-11-10T00:00:00+0000 2020-11-10 00:00:00+00:00  \n",
       "..                       ...                       ...  \n",
       "95  2020-07-02T00:00:00+0000 2020-07-02 00:00:00+00:00  \n",
       "96  2020-07-01T00:00:00+0000 2020-07-01 00:00:00+00:00  \n",
       "97  2020-06-30T00:00:00+0000 2020-06-30 00:00:00+00:00  \n",
       "98  2020-06-29T00:00:00+0000 2020-06-29 00:00:00+00:00  \n",
       "99  2020-06-26T00:00:00+0000 2020-06-26 00:00:00+00:00  \n",
       "\n",
       "[100 rows x 14 columns]"
      ]
     },
     "execution_count": 23,
     "metadata": {},
     "output_type": "execute_result"
    }
   ],
   "source": [
    "AAPL_df"
   ]
  },
  {
   "cell_type": "code",
   "execution_count": 24,
   "metadata": {
    "ExecuteTime": {
     "end_time": "2020-11-17T14:17:20.145434Z",
     "start_time": "2020-11-17T14:17:19.846398Z"
    }
   },
   "outputs": [
    {
     "data": {
      "image/png": "[encoded data removed]",
      "text/plain": [
       "<Figure size 1008x432 with 1 Axes>"
      ]
     },
     "metadata": {},
     "output_type": "display_data"
    }
   ],
   "source": [
    "fig, ax = plt.subplots(figsize=(14,6))\n",
    "sns.lineplot(x='Date',y='close',data=AAPL_df,ax=ax)\n",
    "plt.xticks(rotation=45)\n",
    "plt.show()\n"
   ]
  },
  {
   "cell_type": "code",
   "execution_count": 25,
   "metadata": {
    "ExecuteTime": {
     "end_time": "2020-11-17T14:17:20.161271Z",
     "start_time": "2020-11-17T14:17:20.147403Z"
    }
   },
   "outputs": [],
   "source": [
    "# sns.lineplot(x='Date',y='close',data=AAPL_df)"
   ]
  },
  {
   "cell_type": "code",
   "execution_count": null,
   "metadata": {},
   "outputs": [],
   "source": []
  },
  {
   "cell_type": "code",
   "execution_count": 26,
   "metadata": {
    "ExecuteTime": {
     "end_time": "2020-11-17T14:17:23.186197Z",
     "start_time": "2020-11-17T14:17:20.857463Z"
    }
   },
   "outputs": [],
   "source": [
    "params={'access_key':API_Access_Key,'symbols':'RELIANCE.XNSE'}#'search':'infosys'\n",
    "response=requests.get(root_url+'eod',params=params)"
   ]
  },
  {
   "cell_type": "code",
   "execution_count": 27,
   "metadata": {
    "ExecuteTime": {
     "end_time": "2020-11-17T14:17:23.201735Z",
     "start_time": "2020-11-17T14:17:23.189715Z"
    }
   },
   "outputs": [],
   "source": [
    "RELIANCE_df=pd.DataFrame(response.json()['data'])"
   ]
  },
  {
   "cell_type": "code",
   "execution_count": 28,
   "metadata": {
    "ExecuteTime": {
     "end_time": "2020-11-17T14:17:23.233227Z",
     "start_time": "2020-11-17T14:17:23.204226Z"
    }
   },
   "outputs": [
    {
     "data": {
      "text/html": [
       "<div>\n",
       "<style scoped>\n",
       "    .dataframe tbody tr th:only-of-type {\n",
       "        vertical-align: middle;\n",
       "    }\n",
       "\n",
       "    .dataframe tbody tr th {\n",
       "        vertical-align: top;\n",
       "    }\n",
       "\n",
       "    .dataframe thead th {\n",
       "        text-align: right;\n",
       "    }\n",
       "</style>\n",
       "<table border=\"1\" class=\"dataframe\">\n",
       "  <thead>\n",
       "    <tr style=\"text-align: right;\">\n",
       "      <th></th>\n",
       "      <th>open</th>\n",
       "      <th>high</th>\n",
       "      <th>low</th>\n",
       "      <th>close</th>\n",
       "      <th>volume</th>\n",
       "      <th>adj_high</th>\n",
       "      <th>adj_low</th>\n",
       "      <th>adj_close</th>\n",
       "      <th>adj_open</th>\n",
       "      <th>adj_volume</th>\n",
       "      <th>symbol</th>\n",
       "      <th>exchange</th>\n",
       "      <th>date</th>\n",
       "    </tr>\n",
       "  </thead>\n",
       "  <tbody>\n",
       "    <tr>\n",
       "      <th>0</th>\n",
       "      <td>2014.9</td>\n",
       "      <td>2015.30</td>\n",
       "      <td>1995.35</td>\n",
       "      <td>2002.30</td>\n",
       "      <td>2411900.0</td>\n",
       "      <td>None</td>\n",
       "      <td>None</td>\n",
       "      <td>2002.30</td>\n",
       "      <td>None</td>\n",
       "      <td>None</td>\n",
       "      <td>RELIANCE.XNSE</td>\n",
       "      <td>XNSE</td>\n",
       "      <td>2020-11-14T00:00:00+0000</td>\n",
       "    </tr>\n",
       "    <tr>\n",
       "      <th>1</th>\n",
       "      <td>1982.0</td>\n",
       "      <td>2036.65</td>\n",
       "      <td>1981.75</td>\n",
       "      <td>1996.40</td>\n",
       "      <td>20943994.0</td>\n",
       "      <td>None</td>\n",
       "      <td>None</td>\n",
       "      <td>1996.40</td>\n",
       "      <td>None</td>\n",
       "      <td>None</td>\n",
       "      <td>RELIANCE.XNSE</td>\n",
       "      <td>XNSE</td>\n",
       "      <td>2020-11-13T00:00:00+0000</td>\n",
       "    </tr>\n",
       "    <tr>\n",
       "      <th>2</th>\n",
       "      <td>1981.0</td>\n",
       "      <td>2008.45</td>\n",
       "      <td>1965.00</td>\n",
       "      <td>1980.00</td>\n",
       "      <td>18481466.0</td>\n",
       "      <td>None</td>\n",
       "      <td>None</td>\n",
       "      <td>1980.00</td>\n",
       "      <td>None</td>\n",
       "      <td>None</td>\n",
       "      <td>RELIANCE.XNSE</td>\n",
       "      <td>XNSE</td>\n",
       "      <td>2020-11-12T00:00:00+0000</td>\n",
       "    </tr>\n",
       "    <tr>\n",
       "      <th>3</th>\n",
       "      <td>2089.0</td>\n",
       "      <td>2095.00</td>\n",
       "      <td>1978.10</td>\n",
       "      <td>1997.20</td>\n",
       "      <td>26178477.0</td>\n",
       "      <td>None</td>\n",
       "      <td>None</td>\n",
       "      <td>1997.20</td>\n",
       "      <td>None</td>\n",
       "      <td>None</td>\n",
       "      <td>RELIANCE.XNSE</td>\n",
       "      <td>XNSE</td>\n",
       "      <td>2020-11-11T00:00:00+0000</td>\n",
       "    </tr>\n",
       "    <tr>\n",
       "      <th>4</th>\n",
       "      <td>2077.0</td>\n",
       "      <td>2090.00</td>\n",
       "      <td>2041.20</td>\n",
       "      <td>2084.55</td>\n",
       "      <td>17045147.0</td>\n",
       "      <td>None</td>\n",
       "      <td>None</td>\n",
       "      <td>2084.55</td>\n",
       "      <td>None</td>\n",
       "      <td>None</td>\n",
       "      <td>RELIANCE.XNSE</td>\n",
       "      <td>XNSE</td>\n",
       "      <td>2020-11-10T00:00:00+0000</td>\n",
       "    </tr>\n",
       "  </tbody>\n",
       "</table>\n",
       "</div>"
      ],
      "text/plain": [
       "     open     high      low    close      volume adj_high adj_low  adj_close  \\\n",
       "0  2014.9  2015.30  1995.35  2002.30   2411900.0     None    None    2002.30   \n",
       "1  1982.0  2036.65  1981.75  1996.40  20943994.0     None    None    1996.40   \n",
       "2  1981.0  2008.45  1965.00  1980.00  18481466.0     None    None    1980.00   \n",
       "3  2089.0  2095.00  1978.10  1997.20  26178477.0     None    None    1997.20   \n",
       "4  2077.0  2090.00  2041.20  2084.55  17045147.0     None    None    2084.55   \n",
       "\n",
       "  adj_open adj_volume         symbol exchange                      date  \n",
       "0     None       None  RELIANCE.XNSE     XNSE  2020-11-14T00:00:00+0000  \n",
       "1     None       None  RELIANCE.XNSE     XNSE  2020-11-13T00:00:00+0000  \n",
       "2     None       None  RELIANCE.XNSE     XNSE  2020-11-12T00:00:00+0000  \n",
       "3     None       None  RELIANCE.XNSE     XNSE  2020-11-11T00:00:00+0000  \n",
       "4     None       None  RELIANCE.XNSE     XNSE  2020-11-10T00:00:00+0000  "
      ]
     },
     "execution_count": 28,
     "metadata": {},
     "output_type": "execute_result"
    }
   ],
   "source": [
    "RELIANCE_df.head()"
   ]
  },
  {
   "cell_type": "code",
   "execution_count": 29,
   "metadata": {
    "ExecuteTime": {
     "end_time": "2020-11-17T14:17:23.249261Z",
     "start_time": "2020-11-17T14:17:23.235227Z"
    }
   },
   "outputs": [],
   "source": [
    "RELIANCE_df['Date']=pd.to_datetime(RELIANCE_df['date'])"
   ]
  },
  {
   "cell_type": "code",
   "execution_count": 30,
   "metadata": {
    "ExecuteTime": {
     "end_time": "2020-11-17T14:17:23.640230Z",
     "start_time": "2020-11-17T14:17:23.251227Z"
    }
   },
   "outputs": [
    {
     "data": {
      "image/png": "[encoded data removed]",
      "text/plain": [
       "<Figure size 1008x432 with 1 Axes>"
      ]
     },
     "metadata": {},
     "output_type": "display_data"
    }
   ],
   "source": [
    "fig, ax = plt.subplots(figsize=(14,6))\n",
    "sns.lineplot(x='Date',y='close',data=RELIANCE_df,ax=ax)\n",
    "plt.xticks(rotation=45)\n",
    "plt.show()"
   ]
  },
  {
   "cell_type": "code",
   "execution_count": null,
   "metadata": {},
   "outputs": [],
   "source": []
  }
 ],
 "metadata": {
  "kernelspec": {
   "display_name": "Python 3.7.3 64-bit ('base': conda)",
   "language": "python",
   "name": "python37364bitbasecondac1e1af396773407484830c731e4132c7"
  },
  "language_info": {
   "codemirror_mode": {
    "name": "ipython",
    "version": 3
   },
   "file_extension": ".py",
   "mimetype": "text/x-python",
   "name": "python",
   "nbconvert_exporter": "python",
   "pygments_lexer": "ipython3",
   "version": "3.8.3"
  }
 },
 "nbformat": 4,
 "nbformat_minor": 4
}
