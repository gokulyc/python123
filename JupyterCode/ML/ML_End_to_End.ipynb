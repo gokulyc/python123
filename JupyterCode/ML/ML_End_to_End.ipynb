{
 "cells": [
  {
   "cell_type": "code",
   "execution_count": 1,
   "metadata": {
    "ExecuteTime": {
     "end_time": "2020-08-24T14:38:11.227783Z",
     "start_time": "2020-08-24T14:38:10.901653Z"
    }
   },
   "outputs": [],
   "source": [
    "import numpy as np\n",
    "import pandas as pd"
   ]
  },
  {
   "cell_type": "code",
   "execution_count": 2,
   "metadata": {
    "ExecuteTime": {
     "end_time": "2020-08-24T14:38:11.830485Z",
     "start_time": "2020-08-24T14:38:11.797937Z"
    }
   },
   "outputs": [
    {
     "data": {
      "text/plain": [
       "array([8034, 7122, 7571, ..., 6215, 4695, 9651])"
      ]
     },
     "execution_count": 2,
     "metadata": {},
     "output_type": "execute_result"
    }
   ],
   "source": [
    "np.random.seed(1000)\n",
    "np.random.permutation(10000)"
   ]
  },
  {
   "cell_type": "code",
   "execution_count": 3,
   "metadata": {
    "ExecuteTime": {
     "end_time": "2020-08-24T14:38:13.258352Z",
     "start_time": "2020-08-24T14:38:12.326221Z"
    }
   },
   "outputs": [
    {
     "data": {
      "text/html": [
       "<div>\n",
       "<style scoped>\n",
       "    .dataframe tbody tr th:only-of-type {\n",
       "        vertical-align: middle;\n",
       "    }\n",
       "\n",
       "    .dataframe tbody tr th {\n",
       "        vertical-align: top;\n",
       "    }\n",
       "\n",
       "    .dataframe thead th {\n",
       "        text-align: right;\n",
       "    }\n",
       "</style>\n",
       "<table border=\"1\" class=\"dataframe\">\n",
       "  <thead>\n",
       "    <tr style=\"text-align: right;\">\n",
       "      <th></th>\n",
       "      <th>Year</th>\n",
       "      <th>Month</th>\n",
       "      <th>Day</th>\n",
       "      <th>Country</th>\n",
       "      <th>State</th>\n",
       "      <th>Region</th>\n",
       "      <th>City</th>\n",
       "      <th>Latitude</th>\n",
       "      <th>Longitude</th>\n",
       "      <th>AttackType</th>\n",
       "      <th>Killed</th>\n",
       "      <th>Wounded</th>\n",
       "      <th>Target</th>\n",
       "      <th>Summary</th>\n",
       "      <th>Group</th>\n",
       "      <th>Target_type</th>\n",
       "      <th>Weapon_type</th>\n",
       "    </tr>\n",
       "  </thead>\n",
       "  <tbody>\n",
       "    <tr>\n",
       "      <th>0</th>\n",
       "      <td>1970</td>\n",
       "      <td>7</td>\n",
       "      <td>2</td>\n",
       "      <td>Dominican Republic</td>\n",
       "      <td>NaN</td>\n",
       "      <td>Central America &amp; Caribbean</td>\n",
       "      <td>Santo Domingo</td>\n",
       "      <td>18.456792</td>\n",
       "      <td>-69.951164</td>\n",
       "      <td>Assassination</td>\n",
       "      <td>1.0</td>\n",
       "      <td>0.0</td>\n",
       "      <td>Julio Guzman</td>\n",
       "      <td>NaN</td>\n",
       "      <td>MANO-D</td>\n",
       "      <td>Private Citizens &amp; Property</td>\n",
       "      <td>Unknown</td>\n",
       "    </tr>\n",
       "    <tr>\n",
       "      <th>1</th>\n",
       "      <td>1970</td>\n",
       "      <td>0</td>\n",
       "      <td>0</td>\n",
       "      <td>Mexico</td>\n",
       "      <td>Federal</td>\n",
       "      <td>North America</td>\n",
       "      <td>Mexico city</td>\n",
       "      <td>19.371887</td>\n",
       "      <td>-99.086624</td>\n",
       "      <td>Hostage Taking (Kidnapping)</td>\n",
       "      <td>0.0</td>\n",
       "      <td>0.0</td>\n",
       "      <td>Nadine Chaval, daughter</td>\n",
       "      <td>NaN</td>\n",
       "      <td>23rd of September Communist League</td>\n",
       "      <td>Government (Diplomatic)</td>\n",
       "      <td>Unknown</td>\n",
       "    </tr>\n",
       "    <tr>\n",
       "      <th>2</th>\n",
       "      <td>1970</td>\n",
       "      <td>1</td>\n",
       "      <td>0</td>\n",
       "      <td>Philippines</td>\n",
       "      <td>Tarlac</td>\n",
       "      <td>Southeast Asia</td>\n",
       "      <td>Unknown</td>\n",
       "      <td>15.478598</td>\n",
       "      <td>120.599741</td>\n",
       "      <td>Assassination</td>\n",
       "      <td>1.0</td>\n",
       "      <td>0.0</td>\n",
       "      <td>Employee</td>\n",
       "      <td>NaN</td>\n",
       "      <td>Unknown</td>\n",
       "      <td>Journalists &amp; Media</td>\n",
       "      <td>Unknown</td>\n",
       "    </tr>\n",
       "    <tr>\n",
       "      <th>3</th>\n",
       "      <td>1970</td>\n",
       "      <td>1</td>\n",
       "      <td>0</td>\n",
       "      <td>Greece</td>\n",
       "      <td>Attica</td>\n",
       "      <td>Western Europe</td>\n",
       "      <td>Athens</td>\n",
       "      <td>37.997490</td>\n",
       "      <td>23.762728</td>\n",
       "      <td>Bombing/Explosion</td>\n",
       "      <td>NaN</td>\n",
       "      <td>NaN</td>\n",
       "      <td>U.S. Embassy</td>\n",
       "      <td>NaN</td>\n",
       "      <td>Unknown</td>\n",
       "      <td>Government (Diplomatic)</td>\n",
       "      <td>Explosives</td>\n",
       "    </tr>\n",
       "    <tr>\n",
       "      <th>4</th>\n",
       "      <td>1970</td>\n",
       "      <td>1</td>\n",
       "      <td>0</td>\n",
       "      <td>Japan</td>\n",
       "      <td>Fukouka</td>\n",
       "      <td>East Asia</td>\n",
       "      <td>Fukouka</td>\n",
       "      <td>33.580412</td>\n",
       "      <td>130.396361</td>\n",
       "      <td>Facility/Infrastructure Attack</td>\n",
       "      <td>NaN</td>\n",
       "      <td>NaN</td>\n",
       "      <td>U.S. Consulate</td>\n",
       "      <td>NaN</td>\n",
       "      <td>Unknown</td>\n",
       "      <td>Government (Diplomatic)</td>\n",
       "      <td>Incendiary</td>\n",
       "    </tr>\n",
       "  </tbody>\n",
       "</table>\n",
       "</div>"
      ],
      "text/plain": [
       "   Year  Month  Day             Country    State                       Region  \\\n",
       "0  1970      7    2  Dominican Republic      NaN  Central America & Caribbean   \n",
       "1  1970      0    0              Mexico  Federal                North America   \n",
       "2  1970      1    0         Philippines   Tarlac               Southeast Asia   \n",
       "3  1970      1    0              Greece   Attica               Western Europe   \n",
       "4  1970      1    0               Japan  Fukouka                    East Asia   \n",
       "\n",
       "            City   Latitude   Longitude                      AttackType  \\\n",
       "0  Santo Domingo  18.456792  -69.951164                   Assassination   \n",
       "1    Mexico city  19.371887  -99.086624     Hostage Taking (Kidnapping)   \n",
       "2        Unknown  15.478598  120.599741                   Assassination   \n",
       "3         Athens  37.997490   23.762728               Bombing/Explosion   \n",
       "4        Fukouka  33.580412  130.396361  Facility/Infrastructure Attack   \n",
       "\n",
       "   Killed  Wounded                   Target Summary  \\\n",
       "0     1.0      0.0             Julio Guzman     NaN   \n",
       "1     0.0      0.0  Nadine Chaval, daughter     NaN   \n",
       "2     1.0      0.0                 Employee     NaN   \n",
       "3     NaN      NaN             U.S. Embassy     NaN   \n",
       "4     NaN      NaN           U.S. Consulate     NaN   \n",
       "\n",
       "                                Group                  Target_type Weapon_type  \n",
       "0                              MANO-D  Private Citizens & Property     Unknown  \n",
       "1  23rd of September Communist League      Government (Diplomatic)     Unknown  \n",
       "2                             Unknown          Journalists & Media     Unknown  \n",
       "3                             Unknown      Government (Diplomatic)  Explosives  \n",
       "4                             Unknown      Government (Diplomatic)  Incendiary  "
      ]
     },
     "execution_count": 3,
     "metadata": {},
     "output_type": "execute_result"
    }
   ],
   "source": [
    "df_terr=pd.read_csv(r\"C:\\Users\\gokul\\Downloads\\xdm\\datasample\\codingninjads\\Lec11\\terrorismData.csv\")\n",
    "df_terr.head()"
   ]
  },
  {
   "cell_type": "code",
   "execution_count": 4,
   "metadata": {
    "ExecuteTime": {
     "end_time": "2020-08-24T14:38:13.413280Z",
     "start_time": "2020-08-24T14:38:13.320252Z"
    }
   },
   "outputs": [
    {
     "name": "stdout",
     "output_type": "stream",
     "text": [
      "<class 'pandas.core.frame.DataFrame'>\n",
      "RangeIndex: 181691 entries, 0 to 181690\n",
      "Data columns (total 17 columns):\n",
      " #   Column       Non-Null Count   Dtype  \n",
      "---  ------       --------------   -----  \n",
      " 0   Year         181691 non-null  int64  \n",
      " 1   Month        181691 non-null  int64  \n",
      " 2   Day          181691 non-null  int64  \n",
      " 3   Country      181691 non-null  object \n",
      " 4   State        181270 non-null  object \n",
      " 5   Region       181691 non-null  object \n",
      " 6   City         181257 non-null  object \n",
      " 7   Latitude     177135 non-null  float64\n",
      " 8   Longitude    177134 non-null  float64\n",
      " 9   AttackType   181691 non-null  object \n",
      " 10  Killed       171378 non-null  float64\n",
      " 11  Wounded      165380 non-null  float64\n",
      " 12  Target       181055 non-null  object \n",
      " 13  Summary      115562 non-null  object \n",
      " 14  Group        181691 non-null  object \n",
      " 15  Target_type  181691 non-null  object \n",
      " 16  Weapon_type  181691 non-null  object \n",
      "dtypes: float64(4), int64(3), object(10)\n",
      "memory usage: 23.6+ MB\n"
     ]
    }
   ],
   "source": [
    "df_terr.info()"
   ]
  },
  {
   "cell_type": "code",
   "execution_count": 5,
   "metadata": {
    "ExecuteTime": {
     "end_time": "2020-08-24T14:38:14.253721Z",
     "start_time": "2020-08-24T14:38:14.154606Z"
    }
   },
   "outputs": [
    {
     "data": {
      "text/html": [
       "<div>\n",
       "<style scoped>\n",
       "    .dataframe tbody tr th:only-of-type {\n",
       "        vertical-align: middle;\n",
       "    }\n",
       "\n",
       "    .dataframe tbody tr th {\n",
       "        vertical-align: top;\n",
       "    }\n",
       "\n",
       "    .dataframe thead th {\n",
       "        text-align: right;\n",
       "    }\n",
       "</style>\n",
       "<table border=\"1\" class=\"dataframe\">\n",
       "  <thead>\n",
       "    <tr style=\"text-align: right;\">\n",
       "      <th></th>\n",
       "      <th>Year</th>\n",
       "      <th>Month</th>\n",
       "      <th>Day</th>\n",
       "      <th>Latitude</th>\n",
       "      <th>Longitude</th>\n",
       "      <th>Killed</th>\n",
       "      <th>Wounded</th>\n",
       "    </tr>\n",
       "  </thead>\n",
       "  <tbody>\n",
       "    <tr>\n",
       "      <th>count</th>\n",
       "      <td>181691.000000</td>\n",
       "      <td>181691.000000</td>\n",
       "      <td>181691.000000</td>\n",
       "      <td>177135.000000</td>\n",
       "      <td>1.771340e+05</td>\n",
       "      <td>171378.000000</td>\n",
       "      <td>165380.000000</td>\n",
       "    </tr>\n",
       "    <tr>\n",
       "      <th>mean</th>\n",
       "      <td>2002.638997</td>\n",
       "      <td>6.467277</td>\n",
       "      <td>15.505644</td>\n",
       "      <td>23.498343</td>\n",
       "      <td>-4.586957e+02</td>\n",
       "      <td>2.403272</td>\n",
       "      <td>3.167668</td>\n",
       "    </tr>\n",
       "    <tr>\n",
       "      <th>std</th>\n",
       "      <td>13.259430</td>\n",
       "      <td>3.388303</td>\n",
       "      <td>8.814045</td>\n",
       "      <td>18.569242</td>\n",
       "      <td>2.047790e+05</td>\n",
       "      <td>11.545741</td>\n",
       "      <td>35.949392</td>\n",
       "    </tr>\n",
       "    <tr>\n",
       "      <th>min</th>\n",
       "      <td>1970.000000</td>\n",
       "      <td>0.000000</td>\n",
       "      <td>0.000000</td>\n",
       "      <td>-53.154613</td>\n",
       "      <td>-8.618590e+07</td>\n",
       "      <td>0.000000</td>\n",
       "      <td>0.000000</td>\n",
       "    </tr>\n",
       "    <tr>\n",
       "      <th>25%</th>\n",
       "      <td>1991.000000</td>\n",
       "      <td>4.000000</td>\n",
       "      <td>8.000000</td>\n",
       "      <td>11.510046</td>\n",
       "      <td>4.545640e+00</td>\n",
       "      <td>0.000000</td>\n",
       "      <td>0.000000</td>\n",
       "    </tr>\n",
       "    <tr>\n",
       "      <th>50%</th>\n",
       "      <td>2009.000000</td>\n",
       "      <td>6.000000</td>\n",
       "      <td>15.000000</td>\n",
       "      <td>31.467463</td>\n",
       "      <td>4.324651e+01</td>\n",
       "      <td>0.000000</td>\n",
       "      <td>0.000000</td>\n",
       "    </tr>\n",
       "    <tr>\n",
       "      <th>75%</th>\n",
       "      <td>2014.000000</td>\n",
       "      <td>9.000000</td>\n",
       "      <td>23.000000</td>\n",
       "      <td>34.685087</td>\n",
       "      <td>6.871033e+01</td>\n",
       "      <td>2.000000</td>\n",
       "      <td>2.000000</td>\n",
       "    </tr>\n",
       "    <tr>\n",
       "      <th>max</th>\n",
       "      <td>2017.000000</td>\n",
       "      <td>12.000000</td>\n",
       "      <td>31.000000</td>\n",
       "      <td>74.633553</td>\n",
       "      <td>1.793667e+02</td>\n",
       "      <td>1570.000000</td>\n",
       "      <td>8191.000000</td>\n",
       "    </tr>\n",
       "  </tbody>\n",
       "</table>\n",
       "</div>"
      ],
      "text/plain": [
       "                Year          Month            Day       Latitude  \\\n",
       "count  181691.000000  181691.000000  181691.000000  177135.000000   \n",
       "mean     2002.638997       6.467277      15.505644      23.498343   \n",
       "std        13.259430       3.388303       8.814045      18.569242   \n",
       "min      1970.000000       0.000000       0.000000     -53.154613   \n",
       "25%      1991.000000       4.000000       8.000000      11.510046   \n",
       "50%      2009.000000       6.000000      15.000000      31.467463   \n",
       "75%      2014.000000       9.000000      23.000000      34.685087   \n",
       "max      2017.000000      12.000000      31.000000      74.633553   \n",
       "\n",
       "          Longitude         Killed        Wounded  \n",
       "count  1.771340e+05  171378.000000  165380.000000  \n",
       "mean  -4.586957e+02       2.403272       3.167668  \n",
       "std    2.047790e+05      11.545741      35.949392  \n",
       "min   -8.618590e+07       0.000000       0.000000  \n",
       "25%    4.545640e+00       0.000000       0.000000  \n",
       "50%    4.324651e+01       0.000000       0.000000  \n",
       "75%    6.871033e+01       2.000000       2.000000  \n",
       "max    1.793667e+02    1570.000000    8191.000000  "
      ]
     },
     "execution_count": 5,
     "metadata": {},
     "output_type": "execute_result"
    }
   ],
   "source": [
    "df_terr.describe()"
   ]
  },
  {
   "cell_type": "code",
   "execution_count": 6,
   "metadata": {
    "ExecuteTime": {
     "end_time": "2020-08-24T14:38:16.204289Z",
     "start_time": "2020-08-24T14:38:14.973530Z"
    }
   },
   "outputs": [
    {
     "data": {
      "image/png": "[encoded data removed]",
      "text/plain": [
       "<Figure size 1152x720 with 9 Axes>"
      ]
     },
     "metadata": {
      "needs_background": "light"
     },
     "output_type": "display_data"
    }
   ],
   "source": [
    "import matplotlib.pyplot as plt\n",
    "# plt.figure(figsize=(16,10))\n",
    "df_terr.hist(figsize=(16,10))\n",
    "plt.show()"
   ]
  },
  {
   "cell_type": "code",
   "execution_count": 7,
   "metadata": {
    "ExecuteTime": {
     "end_time": "2020-08-24T14:38:16.749301Z",
     "start_time": "2020-08-24T14:38:16.282846Z"
    }
   },
   "outputs": [
    {
     "data": {
      "text/plain": [
       "StratifiedShuffleSplit(n_splits=1, random_state=20, test_size=0.2,\n",
       "            train_size=None)"
      ]
     },
     "execution_count": 7,
     "metadata": {},
     "output_type": "execute_result"
    }
   ],
   "source": [
    "from sklearn.model_selection import StratifiedShuffleSplit\n",
    "split= StratifiedShuffleSplit(n_splits=1,test_size=0.2,random_state=20)\n",
    "split"
   ]
  },
  {
   "cell_type": "code",
   "execution_count": 8,
   "metadata": {
    "ExecuteTime": {
     "end_time": "2020-08-24T14:38:17.621941Z",
     "start_time": "2020-08-24T14:38:17.610346Z"
    }
   },
   "outputs": [],
   "source": [
    "# df_terr.fillna(0,inplace=True)"
   ]
  },
  {
   "cell_type": "code",
   "execution_count": 9,
   "metadata": {
    "ExecuteTime": {
     "end_time": "2020-08-24T14:38:18.308226Z",
     "start_time": "2020-08-24T14:38:18.288284Z"
    }
   },
   "outputs": [
    {
     "data": {
      "text/plain": [
       "array([1970, 1971, 1972, 1973, 1974, 1975, 1976, 1977, 1978, 1979, 1980,\n",
       "       1981, 1986, 1982, 1983, 1984, 1985, 1987, 1988, 1989, 1990, 1991,\n",
       "       1992, 1994, 1995, 1996, 1997, 1998, 1999, 2000, 2001, 2002, 2003,\n",
       "       2004, 2005, 2006, 2007, 2008, 2009, 2010, 2011, 2012, 2013, 2014,\n",
       "       2015, 2016, 2017], dtype=int64)"
      ]
     },
     "execution_count": 9,
     "metadata": {},
     "output_type": "execute_result"
    }
   ],
   "source": [
    "df_terr['Year'].unique()"
   ]
  },
  {
   "cell_type": "code",
   "execution_count": 13,
   "metadata": {
    "ExecuteTime": {
     "end_time": "2020-08-24T14:40:01.994525Z",
     "start_time": "2020-08-24T14:40:01.972066Z"
    }
   },
   "outputs": [],
   "source": [
    "df_terr[\"year_cat\"]=pd.cut(df_terr['Year'],bins=[1969,1980,1990,2000,2010,2020])"
   ]
  },
  {
   "cell_type": "code",
   "execution_count": 16,
   "metadata": {
    "ExecuteTime": {
     "end_time": "2020-08-24T14:40:46.197638Z",
     "start_time": "2020-08-24T14:40:46.168465Z"
    }
   },
   "outputs": [
    {
     "name": "stdout",
     "output_type": "stream",
     "text": [
      "[(1969, 1980], (1980, 1990], (1990, 2000], (2000, 2010], (2010, 2020]]\n",
      "Categories (5, interval[int64]): [(1969, 1980] < (1980, 1990] < (1990, 2000] < (2000, 2010] < (2010, 2020]]\n"
     ]
    },
    {
     "data": {
      "text/html": [
       "<div>\n",
       "<style scoped>\n",
       "    .dataframe tbody tr th:only-of-type {\n",
       "        vertical-align: middle;\n",
       "    }\n",
       "\n",
       "    .dataframe tbody tr th {\n",
       "        vertical-align: top;\n",
       "    }\n",
       "\n",
       "    .dataframe thead th {\n",
       "        text-align: right;\n",
       "    }\n",
       "</style>\n",
       "<table border=\"1\" class=\"dataframe\">\n",
       "  <thead>\n",
       "    <tr style=\"text-align: right;\">\n",
       "      <th></th>\n",
       "      <th>Year</th>\n",
       "      <th>Month</th>\n",
       "      <th>Day</th>\n",
       "      <th>Country</th>\n",
       "      <th>State</th>\n",
       "      <th>Region</th>\n",
       "      <th>City</th>\n",
       "      <th>Latitude</th>\n",
       "      <th>Longitude</th>\n",
       "      <th>AttackType</th>\n",
       "      <th>Killed</th>\n",
       "      <th>Wounded</th>\n",
       "      <th>Target</th>\n",
       "      <th>Summary</th>\n",
       "      <th>Group</th>\n",
       "      <th>Target_type</th>\n",
       "      <th>Weapon_type</th>\n",
       "      <th>year_cat</th>\n",
       "    </tr>\n",
       "  </thead>\n",
       "  <tbody>\n",
       "    <tr>\n",
       "      <th>0</th>\n",
       "      <td>1970</td>\n",
       "      <td>7</td>\n",
       "      <td>2</td>\n",
       "      <td>Dominican Republic</td>\n",
       "      <td>NaN</td>\n",
       "      <td>Central America &amp; Caribbean</td>\n",
       "      <td>Santo Domingo</td>\n",
       "      <td>18.456792</td>\n",
       "      <td>-69.951164</td>\n",
       "      <td>Assassination</td>\n",
       "      <td>1.0</td>\n",
       "      <td>0.0</td>\n",
       "      <td>Julio Guzman</td>\n",
       "      <td>NaN</td>\n",
       "      <td>MANO-D</td>\n",
       "      <td>Private Citizens &amp; Property</td>\n",
       "      <td>Unknown</td>\n",
       "      <td>(1969, 1980]</td>\n",
       "    </tr>\n",
       "    <tr>\n",
       "      <th>1</th>\n",
       "      <td>1970</td>\n",
       "      <td>0</td>\n",
       "      <td>0</td>\n",
       "      <td>Mexico</td>\n",
       "      <td>Federal</td>\n",
       "      <td>North America</td>\n",
       "      <td>Mexico city</td>\n",
       "      <td>19.371887</td>\n",
       "      <td>-99.086624</td>\n",
       "      <td>Hostage Taking (Kidnapping)</td>\n",
       "      <td>0.0</td>\n",
       "      <td>0.0</td>\n",
       "      <td>Nadine Chaval, daughter</td>\n",
       "      <td>NaN</td>\n",
       "      <td>23rd of September Communist League</td>\n",
       "      <td>Government (Diplomatic)</td>\n",
       "      <td>Unknown</td>\n",
       "      <td>(1969, 1980]</td>\n",
       "    </tr>\n",
       "    <tr>\n",
       "      <th>2</th>\n",
       "      <td>1970</td>\n",
       "      <td>1</td>\n",
       "      <td>0</td>\n",
       "      <td>Philippines</td>\n",
       "      <td>Tarlac</td>\n",
       "      <td>Southeast Asia</td>\n",
       "      <td>Unknown</td>\n",
       "      <td>15.478598</td>\n",
       "      <td>120.599741</td>\n",
       "      <td>Assassination</td>\n",
       "      <td>1.0</td>\n",
       "      <td>0.0</td>\n",
       "      <td>Employee</td>\n",
       "      <td>NaN</td>\n",
       "      <td>Unknown</td>\n",
       "      <td>Journalists &amp; Media</td>\n",
       "      <td>Unknown</td>\n",
       "      <td>(1969, 1980]</td>\n",
       "    </tr>\n",
       "    <tr>\n",
       "      <th>3</th>\n",
       "      <td>1970</td>\n",
       "      <td>1</td>\n",
       "      <td>0</td>\n",
       "      <td>Greece</td>\n",
       "      <td>Attica</td>\n",
       "      <td>Western Europe</td>\n",
       "      <td>Athens</td>\n",
       "      <td>37.997490</td>\n",
       "      <td>23.762728</td>\n",
       "      <td>Bombing/Explosion</td>\n",
       "      <td>NaN</td>\n",
       "      <td>NaN</td>\n",
       "      <td>U.S. Embassy</td>\n",
       "      <td>NaN</td>\n",
       "      <td>Unknown</td>\n",
       "      <td>Government (Diplomatic)</td>\n",
       "      <td>Explosives</td>\n",
       "      <td>(1969, 1980]</td>\n",
       "    </tr>\n",
       "    <tr>\n",
       "      <th>4</th>\n",
       "      <td>1970</td>\n",
       "      <td>1</td>\n",
       "      <td>0</td>\n",
       "      <td>Japan</td>\n",
       "      <td>Fukouka</td>\n",
       "      <td>East Asia</td>\n",
       "      <td>Fukouka</td>\n",
       "      <td>33.580412</td>\n",
       "      <td>130.396361</td>\n",
       "      <td>Facility/Infrastructure Attack</td>\n",
       "      <td>NaN</td>\n",
       "      <td>NaN</td>\n",
       "      <td>U.S. Consulate</td>\n",
       "      <td>NaN</td>\n",
       "      <td>Unknown</td>\n",
       "      <td>Government (Diplomatic)</td>\n",
       "      <td>Incendiary</td>\n",
       "      <td>(1969, 1980]</td>\n",
       "    </tr>\n",
       "  </tbody>\n",
       "</table>\n",
       "</div>"
      ],
      "text/plain": [
       "   Year  Month  Day             Country    State                       Region  \\\n",
       "0  1970      7    2  Dominican Republic      NaN  Central America & Caribbean   \n",
       "1  1970      0    0              Mexico  Federal                North America   \n",
       "2  1970      1    0         Philippines   Tarlac               Southeast Asia   \n",
       "3  1970      1    0              Greece   Attica               Western Europe   \n",
       "4  1970      1    0               Japan  Fukouka                    East Asia   \n",
       "\n",
       "            City   Latitude   Longitude                      AttackType  \\\n",
       "0  Santo Domingo  18.456792  -69.951164                   Assassination   \n",
       "1    Mexico city  19.371887  -99.086624     Hostage Taking (Kidnapping)   \n",
       "2        Unknown  15.478598  120.599741                   Assassination   \n",
       "3         Athens  37.997490   23.762728               Bombing/Explosion   \n",
       "4        Fukouka  33.580412  130.396361  Facility/Infrastructure Attack   \n",
       "\n",
       "   Killed  Wounded                   Target Summary  \\\n",
       "0     1.0      0.0             Julio Guzman     NaN   \n",
       "1     0.0      0.0  Nadine Chaval, daughter     NaN   \n",
       "2     1.0      0.0                 Employee     NaN   \n",
       "3     NaN      NaN             U.S. Embassy     NaN   \n",
       "4     NaN      NaN           U.S. Consulate     NaN   \n",
       "\n",
       "                                Group                  Target_type  \\\n",
       "0                              MANO-D  Private Citizens & Property   \n",
       "1  23rd of September Communist League      Government (Diplomatic)   \n",
       "2                             Unknown          Journalists & Media   \n",
       "3                             Unknown      Government (Diplomatic)   \n",
       "4                             Unknown      Government (Diplomatic)   \n",
       "\n",
       "  Weapon_type      year_cat  \n",
       "0     Unknown  (1969, 1980]  \n",
       "1     Unknown  (1969, 1980]  \n",
       "2     Unknown  (1969, 1980]  \n",
       "3  Explosives  (1969, 1980]  \n",
       "4  Incendiary  (1969, 1980]  "
      ]
     },
     "execution_count": 16,
     "metadata": {},
     "output_type": "execute_result"
    }
   ],
   "source": [
    "print(df_terr[\"year_cat\"].unique())\n",
    "df_terr.head()"
   ]
  },
  {
   "cell_type": "code",
   "execution_count": 18,
   "metadata": {
    "ExecuteTime": {
     "end_time": "2020-08-24T14:42:11.057625Z",
     "start_time": "2020-08-24T14:42:11.034209Z"
    }
   },
   "outputs": [],
   "source": [
    "df_no_na=df_terr[['Year','Month','Day','Killed','Wounded']].fillna(method='ffill')"
   ]
  },
  {
   "cell_type": "code",
   "execution_count": 19,
   "metadata": {
    "ExecuteTime": {
     "end_time": "2020-08-24T14:42:21.642326Z",
     "start_time": "2020-08-24T14:42:21.575994Z"
    }
   },
   "outputs": [
    {
     "data": {
      "text/html": [
       "<div>\n",
       "<style scoped>\n",
       "    .dataframe tbody tr th:only-of-type {\n",
       "        vertical-align: middle;\n",
       "    }\n",
       "\n",
       "    .dataframe tbody tr th {\n",
       "        vertical-align: top;\n",
       "    }\n",
       "\n",
       "    .dataframe thead th {\n",
       "        text-align: right;\n",
       "    }\n",
       "</style>\n",
       "<table border=\"1\" class=\"dataframe\">\n",
       "  <thead>\n",
       "    <tr style=\"text-align: right;\">\n",
       "      <th></th>\n",
       "      <th>Year</th>\n",
       "      <th>Month</th>\n",
       "      <th>Day</th>\n",
       "      <th>Killed</th>\n",
       "      <th>Wounded</th>\n",
       "    </tr>\n",
       "  </thead>\n",
       "  <tbody>\n",
       "    <tr>\n",
       "      <th>count</th>\n",
       "      <td>181691.000000</td>\n",
       "      <td>181691.000000</td>\n",
       "      <td>181691.000000</td>\n",
       "      <td>181691.000000</td>\n",
       "      <td>181691.000000</td>\n",
       "    </tr>\n",
       "    <tr>\n",
       "      <th>mean</th>\n",
       "      <td>2002.638997</td>\n",
       "      <td>6.467277</td>\n",
       "      <td>15.505644</td>\n",
       "      <td>2.488995</td>\n",
       "      <td>3.147696</td>\n",
       "    </tr>\n",
       "    <tr>\n",
       "      <th>std</th>\n",
       "      <td>13.259430</td>\n",
       "      <td>3.388303</td>\n",
       "      <td>8.814045</td>\n",
       "      <td>11.942602</td>\n",
       "      <td>34.582571</td>\n",
       "    </tr>\n",
       "    <tr>\n",
       "      <th>min</th>\n",
       "      <td>1970.000000</td>\n",
       "      <td>0.000000</td>\n",
       "      <td>0.000000</td>\n",
       "      <td>0.000000</td>\n",
       "      <td>0.000000</td>\n",
       "    </tr>\n",
       "    <tr>\n",
       "      <th>25%</th>\n",
       "      <td>1991.000000</td>\n",
       "      <td>4.000000</td>\n",
       "      <td>8.000000</td>\n",
       "      <td>0.000000</td>\n",
       "      <td>0.000000</td>\n",
       "    </tr>\n",
       "    <tr>\n",
       "      <th>50%</th>\n",
       "      <td>2009.000000</td>\n",
       "      <td>6.000000</td>\n",
       "      <td>15.000000</td>\n",
       "      <td>0.000000</td>\n",
       "      <td>0.000000</td>\n",
       "    </tr>\n",
       "    <tr>\n",
       "      <th>75%</th>\n",
       "      <td>2014.000000</td>\n",
       "      <td>9.000000</td>\n",
       "      <td>23.000000</td>\n",
       "      <td>2.000000</td>\n",
       "      <td>2.000000</td>\n",
       "    </tr>\n",
       "    <tr>\n",
       "      <th>max</th>\n",
       "      <td>2017.000000</td>\n",
       "      <td>12.000000</td>\n",
       "      <td>31.000000</td>\n",
       "      <td>1570.000000</td>\n",
       "      <td>8191.000000</td>\n",
       "    </tr>\n",
       "  </tbody>\n",
       "</table>\n",
       "</div>"
      ],
      "text/plain": [
       "                Year          Month            Day         Killed  \\\n",
       "count  181691.000000  181691.000000  181691.000000  181691.000000   \n",
       "mean     2002.638997       6.467277      15.505644       2.488995   \n",
       "std        13.259430       3.388303       8.814045      11.942602   \n",
       "min      1970.000000       0.000000       0.000000       0.000000   \n",
       "25%      1991.000000       4.000000       8.000000       0.000000   \n",
       "50%      2009.000000       6.000000      15.000000       0.000000   \n",
       "75%      2014.000000       9.000000      23.000000       2.000000   \n",
       "max      2017.000000      12.000000      31.000000    1570.000000   \n",
       "\n",
       "             Wounded  \n",
       "count  181691.000000  \n",
       "mean        3.147696  \n",
       "std        34.582571  \n",
       "min         0.000000  \n",
       "25%         0.000000  \n",
       "50%         0.000000  \n",
       "75%         2.000000  \n",
       "max      8191.000000  "
      ]
     },
     "execution_count": 19,
     "metadata": {},
     "output_type": "execute_result"
    }
   ],
   "source": [
    "df_no_na.describe()"
   ]
  },
  {
   "cell_type": "code",
   "execution_count": 20,
   "metadata": {
    "ExecuteTime": {
     "end_time": "2020-08-24T14:43:21.679879Z",
     "start_time": "2020-08-24T14:43:21.653367Z"
    }
   },
   "outputs": [],
   "source": [
    "df_no_na[\"year_cat\"]=pd.cut(df_no_na['Year'],bins=[1969,1980,1990,2000,2010,2020])"
   ]
  },
  {
   "cell_type": "code",
   "execution_count": 21,
   "metadata": {
    "ExecuteTime": {
     "end_time": "2020-08-24T14:43:25.927590Z",
     "start_time": "2020-08-24T14:43:22.548491Z"
    }
   },
   "outputs": [],
   "source": [
    "for train_i,test_i in split.split(df_no_na,df_no_na['year_cat']):\n",
    "    strat_train_set=df_terr.loc[train_i]\n",
    "    strat_test_set=df_terr.loc[test_i]\n"
   ]
  },
  {
   "cell_type": "code",
   "execution_count": 23,
   "metadata": {
    "ExecuteTime": {
     "end_time": "2020-08-24T14:43:35.694995Z",
     "start_time": "2020-08-24T14:43:35.685994Z"
    }
   },
   "outputs": [
    {
     "data": {
      "text/plain": [
       "(145352, 18)"
      ]
     },
     "execution_count": 23,
     "metadata": {},
     "output_type": "execute_result"
    }
   ],
   "source": [
    "strat_train_set.shape"
   ]
  },
  {
   "cell_type": "code",
   "execution_count": 24,
   "metadata": {
    "ExecuteTime": {
     "end_time": "2020-08-24T14:43:42.403705Z",
     "start_time": "2020-08-24T14:43:42.384769Z"
    }
   },
   "outputs": [
    {
     "data": {
      "text/plain": [
       "(36339, 18)"
      ]
     },
     "execution_count": 24,
     "metadata": {},
     "output_type": "execute_result"
    }
   ],
   "source": [
    "strat_test_set.shape"
   ]
  },
  {
   "cell_type": "code",
   "execution_count": 25,
   "metadata": {
    "ExecuteTime": {
     "end_time": "2020-08-24T14:43:54.819575Z",
     "start_time": "2020-08-24T14:43:54.796604Z"
    }
   },
   "outputs": [
    {
     "data": {
      "text/html": [
       "<div>\n",
       "<style scoped>\n",
       "    .dataframe tbody tr th:only-of-type {\n",
       "        vertical-align: middle;\n",
       "    }\n",
       "\n",
       "    .dataframe tbody tr th {\n",
       "        vertical-align: top;\n",
       "    }\n",
       "\n",
       "    .dataframe thead th {\n",
       "        text-align: right;\n",
       "    }\n",
       "</style>\n",
       "<table border=\"1\" class=\"dataframe\">\n",
       "  <thead>\n",
       "    <tr style=\"text-align: right;\">\n",
       "      <th></th>\n",
       "      <th>Year</th>\n",
       "      <th>Month</th>\n",
       "      <th>Day</th>\n",
       "      <th>Country</th>\n",
       "      <th>State</th>\n",
       "      <th>Region</th>\n",
       "      <th>City</th>\n",
       "      <th>Latitude</th>\n",
       "      <th>Longitude</th>\n",
       "      <th>AttackType</th>\n",
       "      <th>Killed</th>\n",
       "      <th>Wounded</th>\n",
       "      <th>Target</th>\n",
       "      <th>Summary</th>\n",
       "      <th>Group</th>\n",
       "      <th>Target_type</th>\n",
       "      <th>Weapon_type</th>\n",
       "      <th>year_cat</th>\n",
       "    </tr>\n",
       "  </thead>\n",
       "  <tbody>\n",
       "    <tr>\n",
       "      <th>50108</th>\n",
       "      <td>1992</td>\n",
       "      <td>2</td>\n",
       "      <td>8</td>\n",
       "      <td>Lebanon</td>\n",
       "      <td>An Nabatiyah</td>\n",
       "      <td>Middle East &amp; North Africa</td>\n",
       "      <td>Braachit</td>\n",
       "      <td>33.176111</td>\n",
       "      <td>35.443333</td>\n",
       "      <td>Armed Assault</td>\n",
       "      <td>3.0</td>\n",
       "      <td>0.0</td>\n",
       "      <td>Patrol</td>\n",
       "      <td>NaN</td>\n",
       "      <td>Abu Nidal Organization (ANO)</td>\n",
       "      <td>Military</td>\n",
       "      <td>Firearms</td>\n",
       "      <td>(1990, 2000]</td>\n",
       "    </tr>\n",
       "    <tr>\n",
       "      <th>61441</th>\n",
       "      <td>1996</td>\n",
       "      <td>1</td>\n",
       "      <td>16</td>\n",
       "      <td>Guatemala</td>\n",
       "      <td>Guatemala</td>\n",
       "      <td>Central America &amp; Caribbean</td>\n",
       "      <td>Guatemala City</td>\n",
       "      <td>14.622869</td>\n",
       "      <td>-90.529068</td>\n",
       "      <td>Bombing/Explosion</td>\n",
       "      <td>0.0</td>\n",
       "      <td>0.0</td>\n",
       "      <td>Unk</td>\n",
       "      <td>NaN</td>\n",
       "      <td>Guatemalan National Revolutionary Unity (URNG)</td>\n",
       "      <td>Unknown</td>\n",
       "      <td>Explosives</td>\n",
       "      <td>(1990, 2000]</td>\n",
       "    </tr>\n",
       "    <tr>\n",
       "      <th>16176</th>\n",
       "      <td>1982</td>\n",
       "      <td>5</td>\n",
       "      <td>7</td>\n",
       "      <td>Guatemala</td>\n",
       "      <td>Quiche</td>\n",
       "      <td>Central America &amp; Caribbean</td>\n",
       "      <td>Unknown</td>\n",
       "      <td>15.498381</td>\n",
       "      <td>-90.982067</td>\n",
       "      <td>Assassination</td>\n",
       "      <td>3.0</td>\n",
       "      <td>0.0</td>\n",
       "      <td>NaN</td>\n",
       "      <td>NaN</td>\n",
       "      <td>Unknown</td>\n",
       "      <td>Unknown</td>\n",
       "      <td>Firearms</td>\n",
       "      <td>(1980, 1990]</td>\n",
       "    </tr>\n",
       "    <tr>\n",
       "      <th>128576</th>\n",
       "      <td>2014</td>\n",
       "      <td>3</td>\n",
       "      <td>10</td>\n",
       "      <td>Philippines</td>\n",
       "      <td>Sorsogon</td>\n",
       "      <td>Southeast Asia</td>\n",
       "      <td>Bugtong</td>\n",
       "      <td>12.862616</td>\n",
       "      <td>124.142576</td>\n",
       "      <td>Armed Assault</td>\n",
       "      <td>0.0</td>\n",
       "      <td>1.0</td>\n",
       "      <td>Patrol</td>\n",
       "      <td>03/10/2014: Assailants attacked a military sec...</td>\n",
       "      <td>New People's Army (NPA)</td>\n",
       "      <td>Military</td>\n",
       "      <td>Firearms</td>\n",
       "      <td>(2010, 2020]</td>\n",
       "    </tr>\n",
       "    <tr>\n",
       "      <th>108982</th>\n",
       "      <td>2012</td>\n",
       "      <td>6</td>\n",
       "      <td>28</td>\n",
       "      <td>Iraq</td>\n",
       "      <td>Saladin</td>\n",
       "      <td>Middle East &amp; North Africa</td>\n",
       "      <td>Samarra</td>\n",
       "      <td>34.208416</td>\n",
       "      <td>43.890713</td>\n",
       "      <td>Armed Assault</td>\n",
       "      <td>2.0</td>\n",
       "      <td>0.0</td>\n",
       "      <td>Members</td>\n",
       "      <td>06/28/2012: Assailants attacked a Sahwa Counci...</td>\n",
       "      <td>Unknown</td>\n",
       "      <td>Terrorists/Non-State Militia</td>\n",
       "      <td>Firearms</td>\n",
       "      <td>(2010, 2020]</td>\n",
       "    </tr>\n",
       "  </tbody>\n",
       "</table>\n",
       "</div>"
      ],
      "text/plain": [
       "        Year  Month  Day      Country         State  \\\n",
       "50108   1992      2    8      Lebanon  An Nabatiyah   \n",
       "61441   1996      1   16    Guatemala     Guatemala   \n",
       "16176   1982      5    7    Guatemala        Quiche   \n",
       "128576  2014      3   10  Philippines      Sorsogon   \n",
       "108982  2012      6   28         Iraq       Saladin   \n",
       "\n",
       "                             Region            City   Latitude   Longitude  \\\n",
       "50108    Middle East & North Africa        Braachit  33.176111   35.443333   \n",
       "61441   Central America & Caribbean  Guatemala City  14.622869  -90.529068   \n",
       "16176   Central America & Caribbean         Unknown  15.498381  -90.982067   \n",
       "128576               Southeast Asia         Bugtong  12.862616  124.142576   \n",
       "108982   Middle East & North Africa         Samarra  34.208416   43.890713   \n",
       "\n",
       "               AttackType  Killed  Wounded   Target  \\\n",
       "50108       Armed Assault     3.0      0.0   Patrol   \n",
       "61441   Bombing/Explosion     0.0      0.0      Unk   \n",
       "16176       Assassination     3.0      0.0      NaN   \n",
       "128576      Armed Assault     0.0      1.0   Patrol   \n",
       "108982      Armed Assault     2.0      0.0  Members   \n",
       "\n",
       "                                                  Summary  \\\n",
       "50108                                                 NaN   \n",
       "61441                                                 NaN   \n",
       "16176                                                 NaN   \n",
       "128576  03/10/2014: Assailants attacked a military sec...   \n",
       "108982  06/28/2012: Assailants attacked a Sahwa Counci...   \n",
       "\n",
       "                                                 Group  \\\n",
       "50108                     Abu Nidal Organization (ANO)   \n",
       "61441   Guatemalan National Revolutionary Unity (URNG)   \n",
       "16176                                          Unknown   \n",
       "128576                         New People's Army (NPA)   \n",
       "108982                                         Unknown   \n",
       "\n",
       "                         Target_type Weapon_type      year_cat  \n",
       "50108                       Military    Firearms  (1990, 2000]  \n",
       "61441                        Unknown  Explosives  (1990, 2000]  \n",
       "16176                        Unknown    Firearms  (1980, 1990]  \n",
       "128576                      Military    Firearms  (2010, 2020]  \n",
       "108982  Terrorists/Non-State Militia    Firearms  (2010, 2020]  "
      ]
     },
     "execution_count": 25,
     "metadata": {},
     "output_type": "execute_result"
    }
   ],
   "source": [
    "strat_train_set.head()"
   ]
  },
  {
   "cell_type": "code",
   "execution_count": 26,
   "metadata": {
    "ExecuteTime": {
     "end_time": "2020-08-24T15:05:56.264352Z",
     "start_time": "2020-08-24T15:05:56.219915Z"
    }
   },
   "outputs": [
    {
     "data": {
      "text/plain": [
       "(2010, 2020]    0.451256\n",
       "(1980, 1990]    0.178243\n",
       "(2000, 2010]    0.154391\n",
       "(1990, 2000]    0.146892\n",
       "(1969, 1980]    0.069218\n",
       "Name: year_cat, dtype: float64"
      ]
     },
     "execution_count": 26,
     "metadata": {},
     "output_type": "execute_result"
    }
   ],
   "source": [
    "strat_train_set[\"year_cat\"].value_counts()/len(strat_train_set)"
   ]
  },
  {
   "cell_type": "code",
   "execution_count": 27,
   "metadata": {
    "ExecuteTime": {
     "end_time": "2020-08-24T15:06:12.961762Z",
     "start_time": "2020-08-24T15:06:12.934363Z"
    }
   },
   "outputs": [
    {
     "data": {
      "text/plain": [
       "(2010, 2020]    0.451251\n",
       "(1980, 1990]    0.178238\n",
       "(2000, 2010]    0.154407\n",
       "(1990, 2000]    0.146895\n",
       "(1969, 1980]    0.069209\n",
       "Name: year_cat, dtype: float64"
      ]
     },
     "execution_count": 27,
     "metadata": {},
     "output_type": "execute_result"
    }
   ],
   "source": [
    "strat_test_set[\"year_cat\"].value_counts()/len(strat_test_set)"
   ]
  },
  {
   "cell_type": "code",
   "execution_count": null,
   "metadata": {},
   "outputs": [],
   "source": []
  },
  {
   "cell_type": "code",
   "execution_count": 30,
   "metadata": {
    "ExecuteTime": {
     "end_time": "2020-08-24T15:10:00.546263Z",
     "start_time": "2020-08-24T15:09:58.890020Z"
    }
   },
   "outputs": [
    {
     "data": {
      "text/plain": [
       "<matplotlib.axes._subplots.AxesSubplot at 0x1f891003bc8>"
      ]
     },
     "execution_count": 30,
     "metadata": {},
     "output_type": "execute_result"
    },
    {
     "data": {
      "image/png": "[encoded data removed]",
      "text/plain": [
       "<Figure size 432x288 with 1 Axes>"
      ]
     },
     "metadata": {
      "needs_background": "light"
     },
     "output_type": "display_data"
    }
   ],
   "source": [
    "# df_terr.plot(kind='scatter',x='Longitude',y='Latitude')"
   ]
  },
  {
   "cell_type": "code",
   "execution_count": null,
   "metadata": {},
   "outputs": [],
   "source": []
  }
 ],
 "metadata": {
  "kernelspec": {
   "display_name": "Python 3.7.3 64-bit ('base': conda)",
   "language": "python",
   "name": "python37364bitbasecondac1e1af396773407484830c731e4132c7"
  },
  "language_info": {
   "codemirror_mode": {
    "name": "ipython",
    "version": 3
   },
   "file_extension": ".py",
   "mimetype": "text/x-python",
   "name": "python",
   "nbconvert_exporter": "python",
   "pygments_lexer": "ipython3",
   "version": "3.7.6"
  },
  "varInspector": {
   "cols": {
    "lenName": 16,
    "lenType": 16,
    "lenVar": 40
   },
   "kernels_config": {
    "python": {
     "delete_cmd_postfix": "",
     "delete_cmd_prefix": "del ",
     "library": "var_list.py",
     "varRefreshCmd": "print(var_dic_list())"
    },
    "r": {
     "delete_cmd_postfix": ") ",
     "delete_cmd_prefix": "rm(",
     "library": "var_list.r",
     "varRefreshCmd": "cat(var_dic_list()) "
    }
   },
   "types_to_exclude": [
    "module",
    "function",
    "builtin_function_or_method",
    "instance",
    "_Feature"
   ],
   "window_display": false
  }
 },
 "nbformat": 4,
 "nbformat_minor": 4
}
