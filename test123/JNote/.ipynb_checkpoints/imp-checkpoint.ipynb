{
 "cells": [
  {
   "cell_type": "code",
   "execution_count": 1,
   "metadata": {},
   "outputs": [
    {
     "name": "stdout",
     "output_type": "stream",
     "text": [
      "Output List using list comprehensions: [0, 2, 0, 4, 4, 0, 6, 0, 0]\n"
     ]
    }
   ],
   "source": [
    "input_list = [1, 2, 3, 4, 4, 5, 6, 7, 7]   \n",
    "list_using_comp = [var if var % 2 == 0 else 0 for var in input_list ]\n",
    "print(\"Output List using list comprehensions:\",list_using_comp) \n"
   ]
  },
  {
   "cell_type": "code",
   "execution_count": 39,
   "metadata": {},
   "outputs": [
    {
     "name": "stdout",
     "output_type": "stream",
     "text": [
      "range(0, 10)\n",
      "range(10, 20)\n"
     ]
    }
   ],
   "source": [
    "print(range(10))\n",
    "print(range(10,20))"
   ]
  },
  {
   "cell_type": "code",
   "execution_count": 40,
   "metadata": {},
   "outputs": [
    {
     "data": {
      "text/plain": [
       "[10, 11, 12, 13, 14]"
      ]
     },
     "execution_count": 40,
     "metadata": {},
     "output_type": "execute_result"
    }
   ],
   "source": [
    "[i for i in range(10)]\n",
    "[i for i in range(10,15)]"
   ]
  },
  {
   "cell_type": "code",
   "execution_count": 41,
   "metadata": {},
   "outputs": [
    {
     "name": "stdout",
     "output_type": "stream",
     "text": [
      "[0, 1, 2, 3, 4, 5, 6, 7, 8, 9]\n",
      "[10, 11, 12, 13, 14]\n"
     ]
    }
   ],
   "source": [
    "print([i for i in range(10)])\n",
    "print([i for i in range(10,15)])"
   ]
  },
  {
   "cell_type": "code",
   "execution_count": 42,
   "metadata": {},
   "outputs": [
    {
     "name": "stdout",
     "output_type": "stream",
     "text": [
      "0,[1, 2]\n"
     ]
    }
   ],
   "source": [
    "# import os\n",
    "os.getcwd()\n",
    "a, *b = range(3)\n",
    "print(\"{0},{1}\".format(a,b))"
   ]
  },
  {
   "cell_type": "code",
   "execution_count": 43,
   "metadata": {},
   "outputs": [
    {
     "name": "stdout",
     "output_type": "stream",
     "text": [
      "0,[1, 2, 3, 4, 5, 6],7\n"
     ]
    }
   ],
   "source": [
    "a, *b, c = range(8)\n",
    "print(\"{0},{1},{2}\".format(a,b,c))"
   ]
  },
  {
   "cell_type": "code",
   "execution_count": 44,
   "metadata": {},
   "outputs": [
    {
     "data": {
      "text/plain": [
       "'0.0'"
      ]
     },
     "execution_count": 44,
     "metadata": {},
     "output_type": "execute_result"
    }
   ],
   "source": [
    "import time\n",
    "import datetime\n",
    "import calendar\n",
    "### Get the current date and time\n",
    "datetime.datetime.now()\n",
    "### Get just the current time\n",
    "datetime.datetime.now().time()\n",
    "### Freeze the program for a set period of time in secs\n",
    "time.sleep(5)\n",
    "\n",
    "### Measure runtime of a python command\n",
    "start = time.time()\n",
    "100 / 5\n",
    "end = time.time()\n",
    "repr(float(end - start))\n",
    "\n"
   ]
  },
  {
   "cell_type": "code",
   "execution_count": 45,
   "metadata": {},
   "outputs": [
    {
     "name": "stdout",
     "output_type": "stream",
     "text": [
      "[2, 7, 12, 26, 34, 56, 98]\n",
      "235\n",
      "98\n",
      "2\n"
     ]
    },
    {
     "data": {
      "text/plain": [
       "['b', 'o', 'b']"
      ]
     },
     "execution_count": 45,
     "metadata": {},
     "output_type": "execute_result"
    }
   ],
   "source": [
    "### Sorting a list form low to high\n",
    "list_1 = [7, 26, 34, 2, 12, 98, 56]\n",
    "list_2 = sorted(list_1)\n",
    "print(list_2)\n",
    "### Getting the max, min, and sum of a list\n",
    "list_sum = sum(list_1)\n",
    "print(list_sum)\n",
    "max_val = max(list_1)\n",
    "print(max_val)\n",
    "min_val = min(list_1)\n",
    "print(min_val)\n",
    "### Convert a string to a list where each element is a character\n",
    "list(\"bob\")\n"
   ]
  },
  {
   "cell_type": "code",
   "execution_count": 46,
   "metadata": {},
   "outputs": [
    {
     "name": "stdout",
     "output_type": "stream",
     "text": [
      "[7, 26, 34, 2, 12, 98, 56]\n",
      "None\n",
      "Rev list : [56, 98, 12, 2, 34, 26, 7]\n",
      "True\n",
      "False\n",
      "0 56\n",
      "1 98\n",
      "2 12\n",
      "3 2\n",
      "4 34\n",
      "5 26\n",
      "6 7\n"
     ]
    }
   ],
   "source": [
    "### You can quickly reverse a list\n",
    "print(list_1)\n",
    "print(list_1.reverse())\n",
    "print(\"Rev list :\",list_1)\n",
    "### Are any or all of the items in our list True?\n",
    "bool_list = [True, False, True, True]\n",
    "print(any(bool_list))\n",
    "\n",
    "print(all(bool_list))\n",
    "\n",
    "### You can loop through a list's values AND indices simultaneously\n",
    "for index, value in enumerate(list_1):\n",
    "    \"do stuff\"\n",
    "    print(index, value)\n"
   ]
  },
  {
   "cell_type": "code",
   "execution_count": 47,
   "metadata": {},
   "outputs": [
    {
     "name": "stdout",
     "output_type": "stream",
     "text": [
      "[15, 14, 13, 12, 11, 10]\n"
     ]
    }
   ],
   "source": [
    "# Reversing a list using slicing technique \n",
    "def Reverse(lst): \n",
    "    new_lst = lst[::-1] \n",
    "    return new_lst \n",
    "      \n",
    "lst = [10, 11, 12, 13, 14, 15] \n",
    "print(Reverse(lst)) "
   ]
  },
  {
   "cell_type": "code",
   "execution_count": 48,
   "metadata": {},
   "outputs": [
    {
     "name": "stdout",
     "output_type": "stream",
     "text": [
      "['In', 'Out', 'Reverse', '_', '_20', '_21', '_22', '_23', '_40', '_44', '_45', '_5', '_8', '__', '___', '__builtin__', '__builtins__', '__doc__', '__loader__', '__name__', '__package__', '__spec__', '_dh', '_i', '_i1', '_i10', '_i11', '_i12', '_i13', '_i14', '_i15', '_i16', '_i17', '_i18', '_i19', '_i2', '_i20', '_i21', '_i22', '_i23', '_i24', '_i25', '_i26', '_i27', '_i28', '_i29', '_i3', '_i30', '_i31', '_i32', '_i33', '_i34', '_i35', '_i36', '_i37', '_i38', '_i39', '_i4', '_i40', '_i41', '_i42', '_i43', '_i44', '_i45', '_i46', '_i47', '_i48', '_i5', '_i6', '_i7', '_i8', '_i9', '_ih', '_ii', '_iii', '_oh', 'a', 'b', 'bool_list', 'c', 'calendar', 'datetime', 'end', 'exit', 'fmod', 'get_ipython', 'index', 'input_list', 'list_1', 'list_2', 'list_sum', 'list_using_comp', 'lst', 'math', 'max_val', 'min_val', 'modf', 'os', 'quit', 'start', 'time', 'value']\n",
      "2.0\n",
      "(0.12000000000000455, 96.0)\n"
     ]
    }
   ],
   "source": [
    "import math\n",
    "print(dir())\n",
    "### Remainder\n",
    "print(math.fmod(12, 5))\n",
    "\n",
    "### Getting both the faction and integer parts\n",
    "print(math.modf(96.12))"
   ]
  },
  {
   "cell_type": "code",
   "execution_count": 49,
   "metadata": {},
   "outputs": [
    {
     "name": "stdout",
     "output_type": "stream",
     "text": [
      "['In', 'Out', 'Reverse', '_', '_20', '_21', '_22', '_23', '_40', '_44', '_45', '_5', '_8', '__', '___', '__builtin__', '__builtins__', '__doc__', '__loader__', '__name__', '__package__', '__spec__', '_dh', '_i', '_i1', '_i10', '_i11', '_i12', '_i13', '_i14', '_i15', '_i16', '_i17', '_i18', '_i19', '_i2', '_i20', '_i21', '_i22', '_i23', '_i24', '_i25', '_i26', '_i27', '_i28', '_i29', '_i3', '_i30', '_i31', '_i32', '_i33', '_i34', '_i35', '_i36', '_i37', '_i38', '_i39', '_i4', '_i40', '_i41', '_i42', '_i43', '_i44', '_i45', '_i46', '_i47', '_i48', '_i49', '_i5', '_i6', '_i7', '_i8', '_i9', '_ih', '_ii', '_iii', '_oh', 'a', 'b', 'bool_list', 'c', 'calendar', 'datetime', 'end', 'exit', 'fmod', 'get_ipython', 'index', 'input_list', 'list_1', 'list_2', 'list_sum', 'list_using_comp', 'lst', 'math', 'max_val', 'min_val', 'modf', 'os', 'quit', 'start', 'time', 'value']\n",
      "2.0\n",
      "(0.12000000000000455, 96.0)\n"
     ]
    }
   ],
   "source": [
    "from math import fmod,modf\n",
    "print(dir())\n",
    "### Remainder\n",
    "print(fmod(12, 5))\n",
    "\n",
    "### Getting both the faction and integer parts\n",
    "print(modf(96.12))"
   ]
  },
  {
   "cell_type": "code",
   "execution_count": 2,
   "metadata": {},
   "outputs": [
    {
     "name": "stdout",
     "output_type": "stream",
     "text": [
      "hi\n"
     ]
    }
   ],
   "source": [
    "print(\"hi\")"
   ]
  },
  {
   "cell_type": "code",
   "execution_count": null,
   "metadata": {},
   "outputs": [],
   "source": []
  }
 ],
 "metadata": {
  "kernelspec": {
   "display_name": "Python 3",
   "language": "python",
   "name": "python3"
  },
  "language_info": {
   "codemirror_mode": {
    "name": "ipython",
    "version": 3
   },
   "file_extension": ".py",
   "mimetype": "text/x-python",
   "name": "python",
   "nbconvert_exporter": "python",
   "pygments_lexer": "ipython3",
   "version": "3.7.3"
  }
 },
 "nbformat": 4,
 "nbformat_minor": 2
}
