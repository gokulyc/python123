{
 "cells": [
  {
   "cell_type": "code",
   "execution_count": 8,
   "metadata": {},
   "outputs": [
    {
     "name": "stdout",
     "output_type": "stream",
     "text": [
      "Enemy strikes  73 Points of damage. Current HP is 187\n",
      "Enemy strikes  72 Points of damage. Current HP is 115\n",
      "Enemy strikes  61 Points of damage. Current HP is 54\n",
      "Enemy strikes  76 Points of damage. Current HP is 0\n",
      "You have died. you cannot respawn. you are dead\n"
     ]
    }
   ],
   "source": [
    "import random\n",
    "\n",
    "playerhp=260\n",
    "eneatkl=60\n",
    "eneatkh=80\n",
    "\n",
    "while playerhp>0:\n",
    "    dmg=random.randrange(eneatkl,eneatkh)\n",
    "\n",
    "    playerhp=playerhp-dmg\n",
    "    \n",
    "    if playerhp<=0:\n",
    "        playerhp=0\n",
    "    \n",
    "    print(\"Enemy strikes \",dmg,\"Points of damage. Current HP is\",playerhp)\n",
    "    \n",
    "    if playerhp<=0:\n",
    "        print(\"You have died. you cannot respawn. you are dead\")\n",
    "    \n",
    "    \n",
    "    \n",
    "    \n"
   ]
  },
  {
   "cell_type": "code",
   "execution_count": null,
   "metadata": {},
   "outputs": [],
   "source": [
    "# "
   ]
  }
 ],
 "metadata": {
  "kernelspec": {
   "display_name": "Python 3",
   "language": "python",
   "name": "python3"
  },
  "language_info": {
   "codemirror_mode": {
    "name": "ipython",
    "version": 3
   },
   "file_extension": ".py",
   "mimetype": "text/x-python",
   "name": "python",
   "nbconvert_exporter": "python",
   "pygments_lexer": "ipython3",
   "version": "3.7.6"
  }
 },
 "nbformat": 4,
 "nbformat_minor": 4
}
