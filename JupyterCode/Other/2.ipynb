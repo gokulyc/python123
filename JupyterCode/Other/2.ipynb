{
 "cells": [
  {
   "cell_type": "code",
   "execution_count": 17,
   "metadata": {},
   "outputs": [
    {
     "name": "stdout",
     "output_type": "stream",
     "text": [
      "Output Dictionary using for loop: {1: 1, 3: 27, 5: 125, 7: 343}\n",
      "Wall time: 0 ns\n"
     ]
    }
   ],
   "source": [
    "%%time\n",
    "input_list = [1, 2, 3, 4, 5, 6, 7] \n",
    "\n",
    "output_dict = {} \n",
    "\n",
    "# Using loop for constructing output dictionary \n",
    "for var in input_list:\n",
    "    if var % 2 != 0:\n",
    "        output_dict[var] = var**3\n",
    "\n",
    "print(\"Output Dictionary using for loop:\", output_dict ) \n"
   ]
  },
  {
   "cell_type": "code",
   "execution_count": 18,
   "metadata": {},
   "outputs": [
    {
     "name": "stdout",
     "output_type": "stream",
     "text": [
      "Output Dictionary using dictionary comprehensions: {1: 1, 3: 27, 5: 125, 7: 343}\n"
     ]
    }
   ],
   "source": [
    "# Using Dictionary comprehensions \n",
    "# for constructing output dictionary \n",
    "\n",
    "input_list = [1,2,3,4,5,6,7] \n",
    "\n",
    "dict_using_comp = {var:var ** 3 for var in input_list if var % 2 != 0} \n",
    "\n",
    "print(\"Output Dictionary using dictionary comprehensions:\", dict_using_comp) \n"
   ]
  },
  {
   "cell_type": "code",
   "execution_count": 22,
   "metadata": {},
   "outputs": [
    {
     "name": "stdout",
     "output_type": "stream",
     "text": [
      "1.648721229963447\n",
      "Run time = 0.4927091598510742\n"
     ]
    }
   ],
   "source": [
    "#import modin.pandas as pd\n",
    "\n",
    "import time\n",
    "\n",
    "start_time = time.time()\n",
    "\n",
    "num_multiplies = 5000000\n",
    "data = range(num_multiplies)\n",
    "number = 1\n",
    "\n",
    "for i in data:\n",
    "    number *= 1.0000001\n",
    "\n",
    "end_time = time.time()\n",
    "\n",
    "print(number)\n",
    "print(\"Run time = {}\".format(end_time - start_time))"
   ]
  },
  {
   "cell_type": "code",
   "execution_count": 21,
   "metadata": {},
   "outputs": [
    {
     "name": "stdout",
     "output_type": "stream",
     "text": [
      "Run time = 2.2579941749572754\n"
     ]
    }
   ],
   "source": [
    "#same using numpy\n",
    "import time\n",
    "import numpy as np\n",
    "\n",
    "start_time = time.time()\n",
    "\n",
    "data = np.ones(shape=(1000, 1000), dtype=np.float)\n",
    "\n",
    "for i in range(1000):\n",
    "    for j in range(1000):\n",
    "        data[i][j] *= 1.0000001\n",
    "        data[i][j] *= 1.0000001\n",
    "        data[i][j] *= 1.0000001\n",
    "        data[i][j] *= 1.0000001\n",
    "        data[i][j] *= 1.0000001\n",
    "\n",
    "end_time = time.time()\n",
    "\n",
    "print(\"Run time = {}\".format(end_time - start_time))"
   ]
  },
  {
   "cell_type": "code",
   "execution_count": 24,
   "metadata": {},
   "outputs": [
    {
     "name": "stdout",
     "output_type": "stream",
     "text": [
      "2.6881038582144647e+43\n",
      "Run time = 0.0009975433349609375\n"
     ]
    }
   ],
   "source": [
    "#We found one — the power function which simply applies a certain power to an input value. The dramatically sped of the code to run in 7.6293e-6 second\n",
    "import time\n",
    "import numpy as np\n",
    "\n",
    "start_time = time.time()\n",
    "\n",
    "num_multiplies = 1000000000\n",
    "data = range(num_multiplies)\n",
    "number = 1\n",
    "\n",
    "number *= np.power(1.0000001, num_multiplies)\n",
    "\n",
    "end_time = time.time()\n",
    "\n",
    "print(number)\n",
    "print(\"Run time = {}\".format(end_time - start_time))\n",
    "\n",
    "\n"
   ]
  },
  {
   "cell_type": "code",
   "execution_count": 25,
   "metadata": {},
   "outputs": [
    {
     "name": "stdout",
     "output_type": "stream",
     "text": [
      "Run time = 0.009952783584594727\n"
     ]
    }
   ],
   "source": [
    "import time\n",
    "import numpy as np\n",
    "\n",
    "start_time = time.time()\n",
    "\n",
    "data = np.ones(shape=(1000, 1000), dtype=np.float)\n",
    "\n",
    "for i in range(5):\n",
    "    data *= 1.0000001\n",
    "\n",
    "end_time = time.time()\n",
    "\n",
    "print(\"Run time = {}\".format(end_time - start_time))"
   ]
  },
  {
   "cell_type": "code",
   "execution_count": null,
   "metadata": {},
   "outputs": [],
   "source": []
  }
 ],
 "metadata": {
  "kernelspec": {
   "display_name": "Python 3",
   "language": "python",
   "name": "python3"
  },
  "language_info": {
   "codemirror_mode": {
    "name": "ipython",
    "version": 3
   },
   "file_extension": ".py",
   "mimetype": "text/x-python",
   "name": "python",
   "nbconvert_exporter": "python",
   "pygments_lexer": "ipython3",
   "version": "3.7.6"
  }
 },
 "nbformat": 4,
 "nbformat_minor": 4
}
